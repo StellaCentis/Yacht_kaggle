{
  "nbformat": 4,
  "nbformat_minor": 0,
  "metadata": {
    "colab": {
      "provenance": [],
      "authorship_tag": "ABX9TyMOuGaYHVZH36uM19Qf+ssG",
      "include_colab_link": true
    },
    "kernelspec": {
      "name": "python3",
      "display_name": "Python 3"
    },
    "language_info": {
      "name": "python"
    }
  },
  "cells": [
    {
      "cell_type": "markdown",
      "metadata": {
        "id": "view-in-github",
        "colab_type": "text"
      },
      "source": [
        "<a href=\"https://colab.research.google.com/github/StellaCentis/Yacht_kaggle/blob/master/Final_project_Stella_Centis_VR495853.ipynb\" target=\"_parent\"><img src=\"https://colab.research.google.com/assets/colab-badge.svg\" alt=\"Open In Colab\"/></a>"
      ]
    },
    {
      "cell_type": "markdown",
      "source": [
        "#Yacht and Motorboat Pricing analysis\n"
      ],
      "metadata": {
        "id": "uhOMme8eys3r"
      }
    },
    {
      "cell_type": "code",
      "source": [
        "import pandas as pd\n",
        "import matplotlib.pyplot as plt\n",
        "import numpy as np"
      ],
      "metadata": {
        "id": "CJ6HG17X7sSR"
      },
      "execution_count": 1349,
      "outputs": []
    },
    {
      "cell_type": "code",
      "source": [
        "boat_df = pd.read_csv('boat_dataset.csv', encoding = 'latin-1') #UTF-8 can't decode byte 0xc3, so we have to read the file in this way, because there are no invalid bytes in that encoding"
      ],
      "metadata": {
        "id": "t3raE7vGysWq"
      },
      "execution_count": 1350,
      "outputs": []
    },
    {
      "cell_type": "code",
      "execution_count": 1351,
      "metadata": {
        "colab": {
          "base_uri": "https://localhost:8080/"
        },
        "id": "yNsazM_6yjVO",
        "outputId": "9cd004c2-869b-459b-d4d6-c23f2f01660f"
      },
      "outputs": [
        {
          "output_type": "stream",
          "name": "stdout",
          "text": [
            "<class 'pandas.core.frame.DataFrame'>\n",
            "RangeIndex: 10344 entries, 0 to 10343\n",
            "Data columns (total 38 columns):\n",
            " #   Column                       Non-Null Count  Dtype  \n",
            "---  ------                       --------------  -----  \n",
            " 0   Price                        10344 non-null  object \n",
            " 1   Category                     10344 non-null  object \n",
            " 2   Boat Type                    10344 non-null  object \n",
            " 3   Manufacturer                 8954 non-null   object \n",
            " 4   Model                        10341 non-null  object \n",
            " 5   Boat name                    1313 non-null   object \n",
            " 6   Type                         10339 non-null  object \n",
            " 7   Year Built                   9777 non-null   float64\n",
            " 8   Condition                    3375 non-null   object \n",
            " 9   Length                       10334 non-null  object \n",
            " 10  Width                        10281 non-null  object \n",
            " 11  Depth                        7234 non-null   object \n",
            " 12  Displacement                 5051 non-null   object \n",
            " 13  CE Design Category           782 non-null    object \n",
            " 14  Cert Number of People        3597 non-null   float64\n",
            " 15  Number of Cabins             6475 non-null   float64\n",
            " 16  Number of beds               6407 non-null   float64\n",
            " 17  Hull Color                   3311 non-null   object \n",
            " 18  Number of Toilets            2156 non-null   float64\n",
            " 19  Number of Bathrooms          463 non-null    float64\n",
            " 20  Number of Showers            1941 non-null   float64\n",
            " 21  Material                     8512 non-null   object \n",
            " 22  Fresh Water Cap              2118 non-null   object \n",
            " 23  Holding Tank                 819 non-null    object \n",
            " 24  Propulsion                   3291 non-null   object \n",
            " 25  Engine                       9535 non-null   object \n",
            " 26  Engine Performance           8063 non-null   object \n",
            " 27  Fuel Capacity                6814 non-null   object \n",
            " 28  Fuel Type                    8022 non-null   object \n",
            " 29  Engine Hours                 5133 non-null   object \n",
            " 30  Max Speed                    892 non-null    object \n",
            " 31  Cruising Speed               547 non-null    object \n",
            " 32  Location                     10301 non-null  object \n",
            " 33  Advertisement Date           870 non-null    object \n",
            " 34  Number of views last 7 days  9981 non-null   object \n",
            " 35  Comments                     7078 non-null   object \n",
            " 36  Additional Comments          2454 non-null   object \n",
            " 37  Equipment                    6174 non-null   object \n",
            "dtypes: float64(7), object(31)\n",
            "memory usage: 3.0+ MB\n"
          ]
        }
      ],
      "source": [
        "boat_df.info()"
      ]
    },
    {
      "cell_type": "code",
      "source": [
        "boat_df.describe().T"
      ],
      "metadata": {
        "colab": {
          "base_uri": "https://localhost:8080/",
          "height": 266
        },
        "id": "Z3GjNdihDhXN",
        "outputId": "cf235136-509e-4fec-b7f7-8255009eec3b"
      },
      "execution_count": 1352,
      "outputs": [
        {
          "output_type": "execute_result",
          "data": {
            "text/plain": [
              "                        count         mean        std     min     25%     50%  \\\n",
              "Year Built             9777.0  2004.830725  16.309045  1885.0  1999.0  2008.0   \n",
              "Cert Number of People  3597.0     9.355296  24.037107     1.0     7.0     8.0   \n",
              "Number of Cabins       6475.0     2.149035   2.145005    -1.0     1.0     2.0   \n",
              "Number of beds         6407.0     4.345716   3.974223   -23.0     2.0     4.0   \n",
              "Number of Toilets      2156.0     1.763915   2.076365     1.0     1.0     1.0   \n",
              "Number of Bathrooms     463.0     1.289417   0.653360     1.0     1.0     1.0   \n",
              "Number of Showers      1941.0     1.550747   0.930096     1.0     1.0     1.0   \n",
              "\n",
              "                          75%     max  \n",
              "Year Built             2017.0  2021.0  \n",
              "Cert Number of People    10.0  1200.0  \n",
              "Number of Cabins          3.0    96.0  \n",
              "Number of beds            6.0   266.0  \n",
              "Number of Toilets         2.0    84.0  \n",
              "Number of Bathrooms       1.0     6.0  \n",
              "Number of Showers         2.0    10.0  "
            ],
            "text/html": [
              "\n",
              "  <div id=\"df-a36bf0e0-4709-4ea9-88a3-b70f2bdd4109\">\n",
              "    <div class=\"colab-df-container\">\n",
              "      <div>\n",
              "<style scoped>\n",
              "    .dataframe tbody tr th:only-of-type {\n",
              "        vertical-align: middle;\n",
              "    }\n",
              "\n",
              "    .dataframe tbody tr th {\n",
              "        vertical-align: top;\n",
              "    }\n",
              "\n",
              "    .dataframe thead th {\n",
              "        text-align: right;\n",
              "    }\n",
              "</style>\n",
              "<table border=\"1\" class=\"dataframe\">\n",
              "  <thead>\n",
              "    <tr style=\"text-align: right;\">\n",
              "      <th></th>\n",
              "      <th>count</th>\n",
              "      <th>mean</th>\n",
              "      <th>std</th>\n",
              "      <th>min</th>\n",
              "      <th>25%</th>\n",
              "      <th>50%</th>\n",
              "      <th>75%</th>\n",
              "      <th>max</th>\n",
              "    </tr>\n",
              "  </thead>\n",
              "  <tbody>\n",
              "    <tr>\n",
              "      <th>Year Built</th>\n",
              "      <td>9777.0</td>\n",
              "      <td>2004.830725</td>\n",
              "      <td>16.309045</td>\n",
              "      <td>1885.0</td>\n",
              "      <td>1999.0</td>\n",
              "      <td>2008.0</td>\n",
              "      <td>2017.0</td>\n",
              "      <td>2021.0</td>\n",
              "    </tr>\n",
              "    <tr>\n",
              "      <th>Cert Number of People</th>\n",
              "      <td>3597.0</td>\n",
              "      <td>9.355296</td>\n",
              "      <td>24.037107</td>\n",
              "      <td>1.0</td>\n",
              "      <td>7.0</td>\n",
              "      <td>8.0</td>\n",
              "      <td>10.0</td>\n",
              "      <td>1200.0</td>\n",
              "    </tr>\n",
              "    <tr>\n",
              "      <th>Number of Cabins</th>\n",
              "      <td>6475.0</td>\n",
              "      <td>2.149035</td>\n",
              "      <td>2.145005</td>\n",
              "      <td>-1.0</td>\n",
              "      <td>1.0</td>\n",
              "      <td>2.0</td>\n",
              "      <td>3.0</td>\n",
              "      <td>96.0</td>\n",
              "    </tr>\n",
              "    <tr>\n",
              "      <th>Number of beds</th>\n",
              "      <td>6407.0</td>\n",
              "      <td>4.345716</td>\n",
              "      <td>3.974223</td>\n",
              "      <td>-23.0</td>\n",
              "      <td>2.0</td>\n",
              "      <td>4.0</td>\n",
              "      <td>6.0</td>\n",
              "      <td>266.0</td>\n",
              "    </tr>\n",
              "    <tr>\n",
              "      <th>Number of Toilets</th>\n",
              "      <td>2156.0</td>\n",
              "      <td>1.763915</td>\n",
              "      <td>2.076365</td>\n",
              "      <td>1.0</td>\n",
              "      <td>1.0</td>\n",
              "      <td>1.0</td>\n",
              "      <td>2.0</td>\n",
              "      <td>84.0</td>\n",
              "    </tr>\n",
              "    <tr>\n",
              "      <th>Number of Bathrooms</th>\n",
              "      <td>463.0</td>\n",
              "      <td>1.289417</td>\n",
              "      <td>0.653360</td>\n",
              "      <td>1.0</td>\n",
              "      <td>1.0</td>\n",
              "      <td>1.0</td>\n",
              "      <td>1.0</td>\n",
              "      <td>6.0</td>\n",
              "    </tr>\n",
              "    <tr>\n",
              "      <th>Number of Showers</th>\n",
              "      <td>1941.0</td>\n",
              "      <td>1.550747</td>\n",
              "      <td>0.930096</td>\n",
              "      <td>1.0</td>\n",
              "      <td>1.0</td>\n",
              "      <td>1.0</td>\n",
              "      <td>2.0</td>\n",
              "      <td>10.0</td>\n",
              "    </tr>\n",
              "  </tbody>\n",
              "</table>\n",
              "</div>\n",
              "      <button class=\"colab-df-convert\" onclick=\"convertToInteractive('df-a36bf0e0-4709-4ea9-88a3-b70f2bdd4109')\"\n",
              "              title=\"Convert this dataframe to an interactive table.\"\n",
              "              style=\"display:none;\">\n",
              "        \n",
              "  <svg xmlns=\"http://www.w3.org/2000/svg\" height=\"24px\"viewBox=\"0 0 24 24\"\n",
              "       width=\"24px\">\n",
              "    <path d=\"M0 0h24v24H0V0z\" fill=\"none\"/>\n",
              "    <path d=\"M18.56 5.44l.94 2.06.94-2.06 2.06-.94-2.06-.94-.94-2.06-.94 2.06-2.06.94zm-11 1L8.5 8.5l.94-2.06 2.06-.94-2.06-.94L8.5 2.5l-.94 2.06-2.06.94zm10 10l.94 2.06.94-2.06 2.06-.94-2.06-.94-.94-2.06-.94 2.06-2.06.94z\"/><path d=\"M17.41 7.96l-1.37-1.37c-.4-.4-.92-.59-1.43-.59-.52 0-1.04.2-1.43.59L10.3 9.45l-7.72 7.72c-.78.78-.78 2.05 0 2.83L4 21.41c.39.39.9.59 1.41.59.51 0 1.02-.2 1.41-.59l7.78-7.78 2.81-2.81c.8-.78.8-2.07 0-2.86zM5.41 20L4 18.59l7.72-7.72 1.47 1.35L5.41 20z\"/>\n",
              "  </svg>\n",
              "      </button>\n",
              "      \n",
              "  <style>\n",
              "    .colab-df-container {\n",
              "      display:flex;\n",
              "      flex-wrap:wrap;\n",
              "      gap: 12px;\n",
              "    }\n",
              "\n",
              "    .colab-df-convert {\n",
              "      background-color: #E8F0FE;\n",
              "      border: none;\n",
              "      border-radius: 50%;\n",
              "      cursor: pointer;\n",
              "      display: none;\n",
              "      fill: #1967D2;\n",
              "      height: 32px;\n",
              "      padding: 0 0 0 0;\n",
              "      width: 32px;\n",
              "    }\n",
              "\n",
              "    .colab-df-convert:hover {\n",
              "      background-color: #E2EBFA;\n",
              "      box-shadow: 0px 1px 2px rgba(60, 64, 67, 0.3), 0px 1px 3px 1px rgba(60, 64, 67, 0.15);\n",
              "      fill: #174EA6;\n",
              "    }\n",
              "\n",
              "    [theme=dark] .colab-df-convert {\n",
              "      background-color: #3B4455;\n",
              "      fill: #D2E3FC;\n",
              "    }\n",
              "\n",
              "    [theme=dark] .colab-df-convert:hover {\n",
              "      background-color: #434B5C;\n",
              "      box-shadow: 0px 1px 3px 1px rgba(0, 0, 0, 0.15);\n",
              "      filter: drop-shadow(0px 1px 2px rgba(0, 0, 0, 0.3));\n",
              "      fill: #FFFFFF;\n",
              "    }\n",
              "  </style>\n",
              "\n",
              "      <script>\n",
              "        const buttonEl =\n",
              "          document.querySelector('#df-a36bf0e0-4709-4ea9-88a3-b70f2bdd4109 button.colab-df-convert');\n",
              "        buttonEl.style.display =\n",
              "          google.colab.kernel.accessAllowed ? 'block' : 'none';\n",
              "\n",
              "        async function convertToInteractive(key) {\n",
              "          const element = document.querySelector('#df-a36bf0e0-4709-4ea9-88a3-b70f2bdd4109');\n",
              "          const dataTable =\n",
              "            await google.colab.kernel.invokeFunction('convertToInteractive',\n",
              "                                                     [key], {});\n",
              "          if (!dataTable) return;\n",
              "\n",
              "          const docLinkHtml = 'Like what you see? Visit the ' +\n",
              "            '<a target=\"_blank\" href=https://colab.research.google.com/notebooks/data_table.ipynb>data table notebook</a>'\n",
              "            + ' to learn more about interactive tables.';\n",
              "          element.innerHTML = '';\n",
              "          dataTable['output_type'] = 'display_data';\n",
              "          await google.colab.output.renderOutput(dataTable, element);\n",
              "          const docLink = document.createElement('div');\n",
              "          docLink.innerHTML = docLinkHtml;\n",
              "          element.appendChild(docLink);\n",
              "        }\n",
              "      </script>\n",
              "    </div>\n",
              "  </div>\n",
              "  "
            ]
          },
          "metadata": {},
          "execution_count": 1352
        }
      ]
    },
    {
      "cell_type": "code",
      "source": [
        "boat_df.head()"
      ],
      "metadata": {
        "colab": {
          "base_uri": "https://localhost:8080/",
          "height": 654
        },
        "id": "bbxjQxSYEF-J",
        "outputId": "5dc15059-eb91-4533-ee58-8ef7029608f2"
      },
      "execution_count": 1353,
      "outputs": [
        {
          "output_type": "execute_result",
          "data": {
            "text/plain": [
              "          Price     Category            Boat Type          Manufacturer  \\\n",
              "0   CHF 3.337,-  Power Boats          Motor Yacht  Rigiflex power boats   \n",
              "1   EUR 3.490,-  Power Boats  Center console boat     Terhi power boats   \n",
              "2   CHF 3.770,-  Power Boats           Sport Boat    Marine power boats   \n",
              "3  DKK 25.900,-  Power Boats           Sport Boat    Pioner power boats   \n",
              "4  SEK 35.000,-  Power Boats              Classic                   NaN   \n",
              "\n",
              "                        Model Boat name                 Type  Year Built  \\\n",
              "0                     CAP 400       NaN  new boat from stock      2017.0   \n",
              "1                       400 C       NaN  new boat from stock      2020.0   \n",
              "2             370 S - Aluboot       NaN  new boat from stock         NaN   \n",
              "3  10 Classic Special Edition       NaN  new boat from stock      2020.0   \n",
              "4          Gullholmensnipa 21       NaN            Used boat      1974.0   \n",
              "\n",
              "  Condition  Length  ... Fuel Type Engine Hours Max Speed Cruising Speed  \\\n",
              "0    as new  4.00 m  ...       NaN          NaN       NaN            NaN   \n",
              "1       new  4.00 m  ...       NaN          NaN       NaN            NaN   \n",
              "2       NaN  3.69 m  ...       NaN          NaN       NaN            NaN   \n",
              "3       NaN  3.00 m  ...       NaN          NaN       NaN            NaN   \n",
              "4      good  6.30 m  ...       NaN        500 h       NaN            NaN   \n",
              "\n",
              "                                     Location  Advertisement Date  \\\n",
              "0      Switzerland Â» Lake Geneva Â» VÃ©senaz                 NaN   \n",
              "1                    Germany Â» BÃ¶nningstedt                 NaN   \n",
              "2  Switzerland Â» Lake of Zurich Â» StÃ¤fa ZH                 NaN   \n",
              "3                        Denmark Â» Svendborg                 NaN   \n",
              "4                Nordsee Â» VÃ¤stra FrÃ¶lunda          04.07.2020   \n",
              "\n",
              "   Number of views last 7 days  \\\n",
              "0                          226   \n",
              "1                           75   \n",
              "2                          124   \n",
              "3                           64   \n",
              "4                          131   \n",
              "\n",
              "                                            Comments  \\\n",
              "0                                                NaN   \n",
              "1  In den Farben weiÃ oder grÃ¼n lieferbar.,,2 a...   \n",
              "2                                                NaN   \n",
              "3  MORSOM OG LETKÃRT KVALITETSBÃ\n",
              "D!,Nye Pioner 1...   \n",
              "4                                                NaN   \n",
              "\n",
              "                                 Additional Comments  \\\n",
              "0  Possibility to arrange it with a complete luxu...   \n",
              "1                                                NaN   \n",
              "2  The lightweight and sleek rowing boat for 4 pe...   \n",
              "3                                                NaN   \n",
              "4                                                NaN   \n",
              "\n",
              "                                           Equipment  \n",
              "0                                                NaN  \n",
              "1                                                NaN  \n",
              "2                                                NaN  \n",
              "3                                                NaN  \n",
              "4  Anchor,Battery,Bilge Pump,Bilge pump,Cockpit C...  \n",
              "\n",
              "[5 rows x 38 columns]"
            ],
            "text/html": [
              "\n",
              "  <div id=\"df-6ea14335-8825-4f17-bbf6-45f83a089473\">\n",
              "    <div class=\"colab-df-container\">\n",
              "      <div>\n",
              "<style scoped>\n",
              "    .dataframe tbody tr th:only-of-type {\n",
              "        vertical-align: middle;\n",
              "    }\n",
              "\n",
              "    .dataframe tbody tr th {\n",
              "        vertical-align: top;\n",
              "    }\n",
              "\n",
              "    .dataframe thead th {\n",
              "        text-align: right;\n",
              "    }\n",
              "</style>\n",
              "<table border=\"1\" class=\"dataframe\">\n",
              "  <thead>\n",
              "    <tr style=\"text-align: right;\">\n",
              "      <th></th>\n",
              "      <th>Price</th>\n",
              "      <th>Category</th>\n",
              "      <th>Boat Type</th>\n",
              "      <th>Manufacturer</th>\n",
              "      <th>Model</th>\n",
              "      <th>Boat name</th>\n",
              "      <th>Type</th>\n",
              "      <th>Year Built</th>\n",
              "      <th>Condition</th>\n",
              "      <th>Length</th>\n",
              "      <th>...</th>\n",
              "      <th>Fuel Type</th>\n",
              "      <th>Engine Hours</th>\n",
              "      <th>Max Speed</th>\n",
              "      <th>Cruising Speed</th>\n",
              "      <th>Location</th>\n",
              "      <th>Advertisement Date</th>\n",
              "      <th>Number of views last 7 days</th>\n",
              "      <th>Comments</th>\n",
              "      <th>Additional Comments</th>\n",
              "      <th>Equipment</th>\n",
              "    </tr>\n",
              "  </thead>\n",
              "  <tbody>\n",
              "    <tr>\n",
              "      <th>0</th>\n",
              "      <td>CHF 3.337,-</td>\n",
              "      <td>Power Boats</td>\n",
              "      <td>Motor Yacht</td>\n",
              "      <td>Rigiflex power boats</td>\n",
              "      <td>CAP 400</td>\n",
              "      <td>NaN</td>\n",
              "      <td>new boat from stock</td>\n",
              "      <td>2017.0</td>\n",
              "      <td>as new</td>\n",
              "      <td>4.00 m</td>\n",
              "      <td>...</td>\n",
              "      <td>NaN</td>\n",
              "      <td>NaN</td>\n",
              "      <td>NaN</td>\n",
              "      <td>NaN</td>\n",
              "      <td>Switzerland Â» Lake Geneva Â» VÃ©senaz</td>\n",
              "      <td>NaN</td>\n",
              "      <td>226</td>\n",
              "      <td>NaN</td>\n",
              "      <td>Possibility to arrange it with a complete luxu...</td>\n",
              "      <td>NaN</td>\n",
              "    </tr>\n",
              "    <tr>\n",
              "      <th>1</th>\n",
              "      <td>EUR 3.490,-</td>\n",
              "      <td>Power Boats</td>\n",
              "      <td>Center console boat</td>\n",
              "      <td>Terhi power boats</td>\n",
              "      <td>400 C</td>\n",
              "      <td>NaN</td>\n",
              "      <td>new boat from stock</td>\n",
              "      <td>2020.0</td>\n",
              "      <td>new</td>\n",
              "      <td>4.00 m</td>\n",
              "      <td>...</td>\n",
              "      <td>NaN</td>\n",
              "      <td>NaN</td>\n",
              "      <td>NaN</td>\n",
              "      <td>NaN</td>\n",
              "      <td>Germany Â» BÃ¶nningstedt</td>\n",
              "      <td>NaN</td>\n",
              "      <td>75</td>\n",
              "      <td>In den Farben weiÃ oder grÃ¼n lieferbar.,,2 a...</td>\n",
              "      <td>NaN</td>\n",
              "      <td>NaN</td>\n",
              "    </tr>\n",
              "    <tr>\n",
              "      <th>2</th>\n",
              "      <td>CHF 3.770,-</td>\n",
              "      <td>Power Boats</td>\n",
              "      <td>Sport Boat</td>\n",
              "      <td>Marine power boats</td>\n",
              "      <td>370 S - Aluboot</td>\n",
              "      <td>NaN</td>\n",
              "      <td>new boat from stock</td>\n",
              "      <td>NaN</td>\n",
              "      <td>NaN</td>\n",
              "      <td>3.69 m</td>\n",
              "      <td>...</td>\n",
              "      <td>NaN</td>\n",
              "      <td>NaN</td>\n",
              "      <td>NaN</td>\n",
              "      <td>NaN</td>\n",
              "      <td>Switzerland Â» Lake of Zurich Â» StÃ¤fa ZH</td>\n",
              "      <td>NaN</td>\n",
              "      <td>124</td>\n",
              "      <td>NaN</td>\n",
              "      <td>The lightweight and sleek rowing boat for 4 pe...</td>\n",
              "      <td>NaN</td>\n",
              "    </tr>\n",
              "    <tr>\n",
              "      <th>3</th>\n",
              "      <td>DKK 25.900,-</td>\n",
              "      <td>Power Boats</td>\n",
              "      <td>Sport Boat</td>\n",
              "      <td>Pioner power boats</td>\n",
              "      <td>10 Classic Special Edition</td>\n",
              "      <td>NaN</td>\n",
              "      <td>new boat from stock</td>\n",
              "      <td>2020.0</td>\n",
              "      <td>NaN</td>\n",
              "      <td>3.00 m</td>\n",
              "      <td>...</td>\n",
              "      <td>NaN</td>\n",
              "      <td>NaN</td>\n",
              "      <td>NaN</td>\n",
              "      <td>NaN</td>\n",
              "      <td>Denmark Â» Svendborg</td>\n",
              "      <td>NaN</td>\n",
              "      <td>64</td>\n",
              "      <td>MORSOM OG LETKÃRT KVALITETSBÃD!,Nye Pioner 1...</td>\n",
              "      <td>NaN</td>\n",
              "      <td>NaN</td>\n",
              "    </tr>\n",
              "    <tr>\n",
              "      <th>4</th>\n",
              "      <td>SEK 35.000,-</td>\n",
              "      <td>Power Boats</td>\n",
              "      <td>Classic</td>\n",
              "      <td>NaN</td>\n",
              "      <td>Gullholmensnipa 21</td>\n",
              "      <td>NaN</td>\n",
              "      <td>Used boat</td>\n",
              "      <td>1974.0</td>\n",
              "      <td>good</td>\n",
              "      <td>6.30 m</td>\n",
              "      <td>...</td>\n",
              "      <td>NaN</td>\n",
              "      <td>500 h</td>\n",
              "      <td>NaN</td>\n",
              "      <td>NaN</td>\n",
              "      <td>Nordsee Â» VÃ¤stra FrÃ¶lunda</td>\n",
              "      <td>04.07.2020</td>\n",
              "      <td>131</td>\n",
              "      <td>NaN</td>\n",
              "      <td>NaN</td>\n",
              "      <td>Anchor,Battery,Bilge Pump,Bilge pump,Cockpit C...</td>\n",
              "    </tr>\n",
              "  </tbody>\n",
              "</table>\n",
              "<p>5 rows × 38 columns</p>\n",
              "</div>\n",
              "      <button class=\"colab-df-convert\" onclick=\"convertToInteractive('df-6ea14335-8825-4f17-bbf6-45f83a089473')\"\n",
              "              title=\"Convert this dataframe to an interactive table.\"\n",
              "              style=\"display:none;\">\n",
              "        \n",
              "  <svg xmlns=\"http://www.w3.org/2000/svg\" height=\"24px\"viewBox=\"0 0 24 24\"\n",
              "       width=\"24px\">\n",
              "    <path d=\"M0 0h24v24H0V0z\" fill=\"none\"/>\n",
              "    <path d=\"M18.56 5.44l.94 2.06.94-2.06 2.06-.94-2.06-.94-.94-2.06-.94 2.06-2.06.94zm-11 1L8.5 8.5l.94-2.06 2.06-.94-2.06-.94L8.5 2.5l-.94 2.06-2.06.94zm10 10l.94 2.06.94-2.06 2.06-.94-2.06-.94-.94-2.06-.94 2.06-2.06.94z\"/><path d=\"M17.41 7.96l-1.37-1.37c-.4-.4-.92-.59-1.43-.59-.52 0-1.04.2-1.43.59L10.3 9.45l-7.72 7.72c-.78.78-.78 2.05 0 2.83L4 21.41c.39.39.9.59 1.41.59.51 0 1.02-.2 1.41-.59l7.78-7.78 2.81-2.81c.8-.78.8-2.07 0-2.86zM5.41 20L4 18.59l7.72-7.72 1.47 1.35L5.41 20z\"/>\n",
              "  </svg>\n",
              "      </button>\n",
              "      \n",
              "  <style>\n",
              "    .colab-df-container {\n",
              "      display:flex;\n",
              "      flex-wrap:wrap;\n",
              "      gap: 12px;\n",
              "    }\n",
              "\n",
              "    .colab-df-convert {\n",
              "      background-color: #E8F0FE;\n",
              "      border: none;\n",
              "      border-radius: 50%;\n",
              "      cursor: pointer;\n",
              "      display: none;\n",
              "      fill: #1967D2;\n",
              "      height: 32px;\n",
              "      padding: 0 0 0 0;\n",
              "      width: 32px;\n",
              "    }\n",
              "\n",
              "    .colab-df-convert:hover {\n",
              "      background-color: #E2EBFA;\n",
              "      box-shadow: 0px 1px 2px rgba(60, 64, 67, 0.3), 0px 1px 3px 1px rgba(60, 64, 67, 0.15);\n",
              "      fill: #174EA6;\n",
              "    }\n",
              "\n",
              "    [theme=dark] .colab-df-convert {\n",
              "      background-color: #3B4455;\n",
              "      fill: #D2E3FC;\n",
              "    }\n",
              "\n",
              "    [theme=dark] .colab-df-convert:hover {\n",
              "      background-color: #434B5C;\n",
              "      box-shadow: 0px 1px 3px 1px rgba(0, 0, 0, 0.15);\n",
              "      filter: drop-shadow(0px 1px 2px rgba(0, 0, 0, 0.3));\n",
              "      fill: #FFFFFF;\n",
              "    }\n",
              "  </style>\n",
              "\n",
              "      <script>\n",
              "        const buttonEl =\n",
              "          document.querySelector('#df-6ea14335-8825-4f17-bbf6-45f83a089473 button.colab-df-convert');\n",
              "        buttonEl.style.display =\n",
              "          google.colab.kernel.accessAllowed ? 'block' : 'none';\n",
              "\n",
              "        async function convertToInteractive(key) {\n",
              "          const element = document.querySelector('#df-6ea14335-8825-4f17-bbf6-45f83a089473');\n",
              "          const dataTable =\n",
              "            await google.colab.kernel.invokeFunction('convertToInteractive',\n",
              "                                                     [key], {});\n",
              "          if (!dataTable) return;\n",
              "\n",
              "          const docLinkHtml = 'Like what you see? Visit the ' +\n",
              "            '<a target=\"_blank\" href=https://colab.research.google.com/notebooks/data_table.ipynb>data table notebook</a>'\n",
              "            + ' to learn more about interactive tables.';\n",
              "          element.innerHTML = '';\n",
              "          dataTable['output_type'] = 'display_data';\n",
              "          await google.colab.output.renderOutput(dataTable, element);\n",
              "          const docLink = document.createElement('div');\n",
              "          docLink.innerHTML = docLinkHtml;\n",
              "          element.appendChild(docLink);\n",
              "        }\n",
              "      </script>\n",
              "    </div>\n",
              "  </div>\n",
              "  "
            ]
          },
          "metadata": {},
          "execution_count": 1353
        }
      ]
    },
    {
      "cell_type": "code",
      "source": [
        "boat_df.tail()"
      ],
      "metadata": {
        "colab": {
          "base_uri": "https://localhost:8080/",
          "height": 637
        },
        "id": "gVdemonCE6Cg",
        "outputId": "b7742679-546e-4ee5-95a8-f467049b1f9c"
      },
      "execution_count": 1354,
      "outputs": [
        {
          "output_type": "execute_result",
          "data": {
            "text/plain": [
              "             Price     Category     Boat Type           Manufacturer  \\\n",
              "10339  EUR 4.516,-  Power Boats    Sport Boat                    NaN   \n",
              "10340  EUR 4.499,-  Power Boats    Sport Boat  BlueCraft power boats   \n",
              "10341  EUR 4.300,-  Power Boats  Pontoon Boat      Whaly power boats   \n",
              "10342  EUR 3.500,-  Power Boats    Sport Boat   Fletcher power boats   \n",
              "10343  CHF 3.780,-  Power Boats  Fishing Boat    DarekCo power boats   \n",
              "\n",
              "                   Model Boat name                          Type  Year Built  \\\n",
              "10339  FOX BOATS 420C EC       NaN           new boat from stock         NaN   \n",
              "10340      BlueSloep 140       NaN  new boat from stock,Unleaded      2020.0   \n",
              "10341    450 New Classic       NaN           new boat from stock      2018.0   \n",
              "10342              Bravo       NaN            Used boat,Unleaded      1992.0   \n",
              "10343          Texas 360       NaN           new boat from stock      2019.0   \n",
              "\n",
              "      Condition  Length  ... Fuel Type Engine Hours Max Speed Cruising Speed  \\\n",
              "10339       NaN  4.17 m  ...       NaN          NaN       NaN            NaN   \n",
              "10340       NaN  4.40 m  ...  Unleaded          NaN       NaN            NaN   \n",
              "10341       new  4.37 m  ...       NaN          NaN       NaN            NaN   \n",
              "10342      good  4.27 m  ...  Unleaded         10 h       NaN            NaN   \n",
              "10343       new  3.60 m  ...       NaN          NaN       NaN            NaN   \n",
              "\n",
              "                                      Location  Advertisement Date  \\\n",
              "10339            Germany Â» Hamburg Â» HAMBURG                 NaN   \n",
              "10340  Germany Â» Nordrhein-Westfalen Â» Wesel                 NaN   \n",
              "10341                    Italy Â» Dormelletto                  NaN   \n",
              "10342                          Hungary Â» Ebes          23.07.2020   \n",
              "10343     Switzerland Â» Brienzersee Â» Brienz                 NaN   \n",
              "\n",
              "       Number of views last 7 days  \\\n",
              "10339                           94   \n",
              "10340                          354   \n",
              "10341                          266   \n",
              "10342                          NaN   \n",
              "10343                          194   \n",
              "\n",
              "                                                Comments  \\\n",
              "10339  LÃ¤nge: 4,17m | Breite: 1,67m | max. Motorisie...   \n",
              "10340                                                NaN   \n",
              "10341  Caratteristiche tecniche,,Materiale: Polietile...   \n",
              "10342  Trailer comes with two new tyres and new wheel...   \n",
              "10343                                                NaN   \n",
              "\n",
              "                                     Additional Comments  \\\n",
              "10339                                                NaN   \n",
              "10340  The BlueSloep 140 is the smallest boat in the ...   \n",
              "10341                                                NaN   \n",
              "10342                                                NaN   \n",
              "10343  Rowing and fishing boat in robust GFK laminate...   \n",
              "\n",
              "                                               Equipment  \n",
              "10339                                                NaN  \n",
              "10340                                                NaN  \n",
              "10341                                                NaN  \n",
              "10342  Battery,Fire Extinguisher,Full Enclosure,Speed...  \n",
              "10343                                                NaN  \n",
              "\n",
              "[5 rows x 38 columns]"
            ],
            "text/html": [
              "\n",
              "  <div id=\"df-78f6c1ec-b346-4608-9d4a-c9abc013f4a3\">\n",
              "    <div class=\"colab-df-container\">\n",
              "      <div>\n",
              "<style scoped>\n",
              "    .dataframe tbody tr th:only-of-type {\n",
              "        vertical-align: middle;\n",
              "    }\n",
              "\n",
              "    .dataframe tbody tr th {\n",
              "        vertical-align: top;\n",
              "    }\n",
              "\n",
              "    .dataframe thead th {\n",
              "        text-align: right;\n",
              "    }\n",
              "</style>\n",
              "<table border=\"1\" class=\"dataframe\">\n",
              "  <thead>\n",
              "    <tr style=\"text-align: right;\">\n",
              "      <th></th>\n",
              "      <th>Price</th>\n",
              "      <th>Category</th>\n",
              "      <th>Boat Type</th>\n",
              "      <th>Manufacturer</th>\n",
              "      <th>Model</th>\n",
              "      <th>Boat name</th>\n",
              "      <th>Type</th>\n",
              "      <th>Year Built</th>\n",
              "      <th>Condition</th>\n",
              "      <th>Length</th>\n",
              "      <th>...</th>\n",
              "      <th>Fuel Type</th>\n",
              "      <th>Engine Hours</th>\n",
              "      <th>Max Speed</th>\n",
              "      <th>Cruising Speed</th>\n",
              "      <th>Location</th>\n",
              "      <th>Advertisement Date</th>\n",
              "      <th>Number of views last 7 days</th>\n",
              "      <th>Comments</th>\n",
              "      <th>Additional Comments</th>\n",
              "      <th>Equipment</th>\n",
              "    </tr>\n",
              "  </thead>\n",
              "  <tbody>\n",
              "    <tr>\n",
              "      <th>10339</th>\n",
              "      <td>EUR 4.516,-</td>\n",
              "      <td>Power Boats</td>\n",
              "      <td>Sport Boat</td>\n",
              "      <td>NaN</td>\n",
              "      <td>FOX BOATS 420C EC</td>\n",
              "      <td>NaN</td>\n",
              "      <td>new boat from stock</td>\n",
              "      <td>NaN</td>\n",
              "      <td>NaN</td>\n",
              "      <td>4.17 m</td>\n",
              "      <td>...</td>\n",
              "      <td>NaN</td>\n",
              "      <td>NaN</td>\n",
              "      <td>NaN</td>\n",
              "      <td>NaN</td>\n",
              "      <td>Germany Â» Hamburg Â» HAMBURG</td>\n",
              "      <td>NaN</td>\n",
              "      <td>94</td>\n",
              "      <td>LÃ¤nge: 4,17m | Breite: 1,67m | max. Motorisie...</td>\n",
              "      <td>NaN</td>\n",
              "      <td>NaN</td>\n",
              "    </tr>\n",
              "    <tr>\n",
              "      <th>10340</th>\n",
              "      <td>EUR 4.499,-</td>\n",
              "      <td>Power Boats</td>\n",
              "      <td>Sport Boat</td>\n",
              "      <td>BlueCraft power boats</td>\n",
              "      <td>BlueSloep 140</td>\n",
              "      <td>NaN</td>\n",
              "      <td>new boat from stock,Unleaded</td>\n",
              "      <td>2020.0</td>\n",
              "      <td>NaN</td>\n",
              "      <td>4.40 m</td>\n",
              "      <td>...</td>\n",
              "      <td>Unleaded</td>\n",
              "      <td>NaN</td>\n",
              "      <td>NaN</td>\n",
              "      <td>NaN</td>\n",
              "      <td>Germany Â» Nordrhein-Westfalen Â» Wesel</td>\n",
              "      <td>NaN</td>\n",
              "      <td>354</td>\n",
              "      <td>NaN</td>\n",
              "      <td>The BlueSloep 140 is the smallest boat in the ...</td>\n",
              "      <td>NaN</td>\n",
              "    </tr>\n",
              "    <tr>\n",
              "      <th>10341</th>\n",
              "      <td>EUR 4.300,-</td>\n",
              "      <td>Power Boats</td>\n",
              "      <td>Pontoon Boat</td>\n",
              "      <td>Whaly power boats</td>\n",
              "      <td>450 New Classic</td>\n",
              "      <td>NaN</td>\n",
              "      <td>new boat from stock</td>\n",
              "      <td>2018.0</td>\n",
              "      <td>new</td>\n",
              "      <td>4.37 m</td>\n",
              "      <td>...</td>\n",
              "      <td>NaN</td>\n",
              "      <td>NaN</td>\n",
              "      <td>NaN</td>\n",
              "      <td>NaN</td>\n",
              "      <td>Italy Â» Dormelletto</td>\n",
              "      <td>NaN</td>\n",
              "      <td>266</td>\n",
              "      <td>Caratteristiche tecniche,,Materiale: Polietile...</td>\n",
              "      <td>NaN</td>\n",
              "      <td>NaN</td>\n",
              "    </tr>\n",
              "    <tr>\n",
              "      <th>10342</th>\n",
              "      <td>EUR 3.500,-</td>\n",
              "      <td>Power Boats</td>\n",
              "      <td>Sport Boat</td>\n",
              "      <td>Fletcher power boats</td>\n",
              "      <td>Bravo</td>\n",
              "      <td>NaN</td>\n",
              "      <td>Used boat,Unleaded</td>\n",
              "      <td>1992.0</td>\n",
              "      <td>good</td>\n",
              "      <td>4.27 m</td>\n",
              "      <td>...</td>\n",
              "      <td>Unleaded</td>\n",
              "      <td>10 h</td>\n",
              "      <td>NaN</td>\n",
              "      <td>NaN</td>\n",
              "      <td>Hungary Â» Ebes</td>\n",
              "      <td>23.07.2020</td>\n",
              "      <td>NaN</td>\n",
              "      <td>Trailer comes with two new tyres and new wheel...</td>\n",
              "      <td>NaN</td>\n",
              "      <td>Battery,Fire Extinguisher,Full Enclosure,Speed...</td>\n",
              "    </tr>\n",
              "    <tr>\n",
              "      <th>10343</th>\n",
              "      <td>CHF 3.780,-</td>\n",
              "      <td>Power Boats</td>\n",
              "      <td>Fishing Boat</td>\n",
              "      <td>DarekCo power boats</td>\n",
              "      <td>Texas 360</td>\n",
              "      <td>NaN</td>\n",
              "      <td>new boat from stock</td>\n",
              "      <td>2019.0</td>\n",
              "      <td>new</td>\n",
              "      <td>3.60 m</td>\n",
              "      <td>...</td>\n",
              "      <td>NaN</td>\n",
              "      <td>NaN</td>\n",
              "      <td>NaN</td>\n",
              "      <td>NaN</td>\n",
              "      <td>Switzerland Â» Brienzersee Â» Brienz</td>\n",
              "      <td>NaN</td>\n",
              "      <td>194</td>\n",
              "      <td>NaN</td>\n",
              "      <td>Rowing and fishing boat in robust GFK laminate...</td>\n",
              "      <td>NaN</td>\n",
              "    </tr>\n",
              "  </tbody>\n",
              "</table>\n",
              "<p>5 rows × 38 columns</p>\n",
              "</div>\n",
              "      <button class=\"colab-df-convert\" onclick=\"convertToInteractive('df-78f6c1ec-b346-4608-9d4a-c9abc013f4a3')\"\n",
              "              title=\"Convert this dataframe to an interactive table.\"\n",
              "              style=\"display:none;\">\n",
              "        \n",
              "  <svg xmlns=\"http://www.w3.org/2000/svg\" height=\"24px\"viewBox=\"0 0 24 24\"\n",
              "       width=\"24px\">\n",
              "    <path d=\"M0 0h24v24H0V0z\" fill=\"none\"/>\n",
              "    <path d=\"M18.56 5.44l.94 2.06.94-2.06 2.06-.94-2.06-.94-.94-2.06-.94 2.06-2.06.94zm-11 1L8.5 8.5l.94-2.06 2.06-.94-2.06-.94L8.5 2.5l-.94 2.06-2.06.94zm10 10l.94 2.06.94-2.06 2.06-.94-2.06-.94-.94-2.06-.94 2.06-2.06.94z\"/><path d=\"M17.41 7.96l-1.37-1.37c-.4-.4-.92-.59-1.43-.59-.52 0-1.04.2-1.43.59L10.3 9.45l-7.72 7.72c-.78.78-.78 2.05 0 2.83L4 21.41c.39.39.9.59 1.41.59.51 0 1.02-.2 1.41-.59l7.78-7.78 2.81-2.81c.8-.78.8-2.07 0-2.86zM5.41 20L4 18.59l7.72-7.72 1.47 1.35L5.41 20z\"/>\n",
              "  </svg>\n",
              "      </button>\n",
              "      \n",
              "  <style>\n",
              "    .colab-df-container {\n",
              "      display:flex;\n",
              "      flex-wrap:wrap;\n",
              "      gap: 12px;\n",
              "    }\n",
              "\n",
              "    .colab-df-convert {\n",
              "      background-color: #E8F0FE;\n",
              "      border: none;\n",
              "      border-radius: 50%;\n",
              "      cursor: pointer;\n",
              "      display: none;\n",
              "      fill: #1967D2;\n",
              "      height: 32px;\n",
              "      padding: 0 0 0 0;\n",
              "      width: 32px;\n",
              "    }\n",
              "\n",
              "    .colab-df-convert:hover {\n",
              "      background-color: #E2EBFA;\n",
              "      box-shadow: 0px 1px 2px rgba(60, 64, 67, 0.3), 0px 1px 3px 1px rgba(60, 64, 67, 0.15);\n",
              "      fill: #174EA6;\n",
              "    }\n",
              "\n",
              "    [theme=dark] .colab-df-convert {\n",
              "      background-color: #3B4455;\n",
              "      fill: #D2E3FC;\n",
              "    }\n",
              "\n",
              "    [theme=dark] .colab-df-convert:hover {\n",
              "      background-color: #434B5C;\n",
              "      box-shadow: 0px 1px 3px 1px rgba(0, 0, 0, 0.15);\n",
              "      filter: drop-shadow(0px 1px 2px rgba(0, 0, 0, 0.3));\n",
              "      fill: #FFFFFF;\n",
              "    }\n",
              "  </style>\n",
              "\n",
              "      <script>\n",
              "        const buttonEl =\n",
              "          document.querySelector('#df-78f6c1ec-b346-4608-9d4a-c9abc013f4a3 button.colab-df-convert');\n",
              "        buttonEl.style.display =\n",
              "          google.colab.kernel.accessAllowed ? 'block' : 'none';\n",
              "\n",
              "        async function convertToInteractive(key) {\n",
              "          const element = document.querySelector('#df-78f6c1ec-b346-4608-9d4a-c9abc013f4a3');\n",
              "          const dataTable =\n",
              "            await google.colab.kernel.invokeFunction('convertToInteractive',\n",
              "                                                     [key], {});\n",
              "          if (!dataTable) return;\n",
              "\n",
              "          const docLinkHtml = 'Like what you see? Visit the ' +\n",
              "            '<a target=\"_blank\" href=https://colab.research.google.com/notebooks/data_table.ipynb>data table notebook</a>'\n",
              "            + ' to learn more about interactive tables.';\n",
              "          element.innerHTML = '';\n",
              "          dataTable['output_type'] = 'display_data';\n",
              "          await google.colab.output.renderOutput(dataTable, element);\n",
              "          const docLink = document.createElement('div');\n",
              "          docLink.innerHTML = docLinkHtml;\n",
              "          element.appendChild(docLink);\n",
              "        }\n",
              "      </script>\n",
              "    </div>\n",
              "  </div>\n",
              "  "
            ]
          },
          "metadata": {},
          "execution_count": 1354
        }
      ]
    },
    {
      "cell_type": "code",
      "source": [
        "boat_df.columns =  list(map(lambda x : x.replace(' ', '_').lower(), boat_df.columns)) #spaces replaced by _ and lower case letters"
      ],
      "metadata": {
        "id": "v9zSJvZZ2cPR"
      },
      "execution_count": 1355,
      "outputs": []
    },
    {
      "cell_type": "code",
      "source": [
        "boat_df['category'].value_counts() #check of the categories of these boats"
      ],
      "metadata": {
        "colab": {
          "base_uri": "https://localhost:8080/"
        },
        "id": "E4lVepmcN0YH",
        "outputId": "394a66df-e6f1-4bbd-da3e-c5d9705fef96"
      },
      "execution_count": 1356,
      "outputs": [
        {
          "output_type": "execute_result",
          "data": {
            "text/plain": [
              "Power Boats    10344\n",
              "Name: category, dtype: int64"
            ]
          },
          "metadata": {},
          "execution_count": 1356
        }
      ]
    },
    {
      "cell_type": "code",
      "source": [
        "boat_df.condition.value_counts() #check of the different types of conditions"
      ],
      "metadata": {
        "colab": {
          "base_uri": "https://localhost:8080/"
        },
        "id": "5KXXcNYH_xrS",
        "outputId": "7dfd4321-06c9-4903-d89e-2fcd2a3b262f"
      },
      "execution_count": 1357,
      "outputs": [
        {
          "output_type": "execute_result",
          "data": {
            "text/plain": [
              "very good                 1158\n",
              "new                        918\n",
              "as new                     511\n",
              "good                       432\n",
              "well-groomed               225\n",
              "used                       114\n",
              "to be done up               10\n",
              "needs a reconditioning       3\n",
              "for tinkers                  3\n",
              "defect                       1\n",
              "Name: condition, dtype: int64"
            ]
          },
          "metadata": {},
          "execution_count": 1357
        }
      ]
    },
    {
      "cell_type": "code",
      "source": [
        "boat_df['length'].value_counts() #check of length: why is a column object and not int/float?"
      ],
      "metadata": {
        "colab": {
          "base_uri": "https://localhost:8080/"
        },
        "id": "Kv2abyN47A-D",
        "outputId": "5cc56a21-c99f-4e69-e69a-62fa14f185a8"
      },
      "execution_count": 1358,
      "outputs": [
        {
          "output_type": "execute_result",
          "data": {
            "text/plain": [
              "9.00 m     113\n",
              "12.00 m    111\n",
              "10.00 m    107\n",
              "11.00 m     99\n",
              "6.50 m      85\n",
              "          ... \n",
              "3.72 m       1\n",
              "23.30 m      1\n",
              "26.63 m      1\n",
              "15.74 m      1\n",
              "3.60 m       1\n",
              "Name: length, Length: 1628, dtype: int64"
            ]
          },
          "metadata": {},
          "execution_count": 1358
        }
      ]
    },
    {
      "cell_type": "code",
      "source": [
        "#Length can be turned into float:\n",
        "new_length = []\n",
        "for i in range(10344):\n",
        "  item = str(boat_df.loc[i,'length'])\n",
        "  new_item = item.replace(' m','')\n",
        "  value = float(new_item)\n",
        "  new_length.append(value)"
      ],
      "metadata": {
        "id": "c6rDWKwLB3ix"
      },
      "execution_count": 1359,
      "outputs": []
    },
    {
      "cell_type": "code",
      "source": [
        "new_length"
      ],
      "metadata": {
        "id": "nsFcb9UwDlRS",
        "colab": {
          "base_uri": "https://localhost:8080/"
        },
        "outputId": "b5fa86a6-960e-493c-a2ac-7e0ef0403d1c"
      },
      "execution_count": 1360,
      "outputs": [
        {
          "output_type": "execute_result",
          "data": {
            "text/plain": [
              "[4.0,\n",
              " 4.0,\n",
              " 3.69,\n",
              " 3.0,\n",
              " 6.3,\n",
              " 3.55,\n",
              " 4.03,\n",
              " 6.2,\n",
              " 3.0,\n",
              " 3.64,\n",
              " 4.35,\n",
              " 5.6,\n",
              " 4.35,\n",
              " 4.13,\n",
              " 4.7,\n",
              " 4.4,\n",
              " 3.72,\n",
              " 5.2,\n",
              " 3.88,\n",
              " 4.31,\n",
              " 4.0,\n",
              " 8.0,\n",
              " 6.37,\n",
              " 6.0,\n",
              " 6.0,\n",
              " 3.55,\n",
              " 3.78,\n",
              " 4.31,\n",
              " 5.6,\n",
              " 6.53,\n",
              " 5.7,\n",
              " 4.0,\n",
              " 3.55,\n",
              " 5.6,\n",
              " 4.01,\n",
              " 4.84,\n",
              " 5.05,\n",
              " 3.81,\n",
              " 3.55,\n",
              " 4.41,\n",
              " 6.2,\n",
              " 5.4,\n",
              " 3.93,\n",
              " 4.4,\n",
              " 4.0,\n",
              " 4.36,\n",
              " 3.88,\n",
              " 5.11,\n",
              " 4.3,\n",
              " 5.2,\n",
              " 4.4,\n",
              " 5.5,\n",
              " 5.85,\n",
              " 4.3,\n",
              " 4.45,\n",
              " 4.01,\n",
              " 4.3,\n",
              " 4.15,\n",
              " 4.5,\n",
              " 4.2,\n",
              " 4.05,\n",
              " 4.0,\n",
              " 4.51,\n",
              " 4.0,\n",
              " 3.95,\n",
              " 5.0,\n",
              " 5.5,\n",
              " 6.02,\n",
              " 6.28,\n",
              " 5.7,\n",
              " 5.0,\n",
              " 8.0,\n",
              " 4.5,\n",
              " 6.67,\n",
              " 4.75,\n",
              " 3.2,\n",
              " 7.26,\n",
              " 4.15,\n",
              " 5.2,\n",
              " 4.6,\n",
              " 4.28,\n",
              " 8.23,\n",
              " 6.16,\n",
              " 4.5,\n",
              " 4.45,\n",
              " 4.5,\n",
              " 8.5,\n",
              " 5.8,\n",
              " 5.7,\n",
              " 5.5,\n",
              " 6.4,\n",
              " 5.23,\n",
              " 5.8,\n",
              " 4.4,\n",
              " 4.4,\n",
              " 4.8,\n",
              " 5.85,\n",
              " 5.0,\n",
              " 5.3,\n",
              " 4.8,\n",
              " 5.18,\n",
              " 5.53,\n",
              " 4.0,\n",
              " 5.0,\n",
              " 5.3,\n",
              " 5.74,\n",
              " 5.8,\n",
              " 3.1,\n",
              " 5.3,\n",
              " 7.9,\n",
              " 3.38,\n",
              " 8.5,\n",
              " 4.5,\n",
              " nan,\n",
              " 4.45,\n",
              " 5.5,\n",
              " 6.0,\n",
              " 5.65,\n",
              " 4.88,\n",
              " 4.51,\n",
              " 4.8,\n",
              " 8.4,\n",
              " 5.7,\n",
              " 6.8,\n",
              " 9.0,\n",
              " 3.99,\n",
              " 6.18,\n",
              " 7.0,\n",
              " 6.0,\n",
              " 4.43,\n",
              " 4.99,\n",
              " 4.5,\n",
              " 5.51,\n",
              " 8.5,\n",
              " 7.25,\n",
              " 5.9,\n",
              " 7.8,\n",
              " 12.0,\n",
              " 12.5,\n",
              " 7.15,\n",
              " 7.02,\n",
              " 7.02,\n",
              " 6.3,\n",
              " 4.9,\n",
              " 6.5,\n",
              " 7.03,\n",
              " 5.79,\n",
              " 5.2,\n",
              " 6.13,\n",
              " 7.8,\n",
              " 6.0,\n",
              " 7.4,\n",
              " 7.62,\n",
              " 5.07,\n",
              " 5.1,\n",
              " 5.2,\n",
              " 4.7,\n",
              " 6.7,\n",
              " 7.75,\n",
              " 6.43,\n",
              " 7.0,\n",
              " 6.5,\n",
              " 6.16,\n",
              " 7.2,\n",
              " 7.75,\n",
              " 7.6,\n",
              " 5.6,\n",
              " 4.6,\n",
              " 5.0,\n",
              " 5.3,\n",
              " 4.0,\n",
              " 4.0,\n",
              " 5.0,\n",
              " 4.5,\n",
              " 5.1,\n",
              " 5.8,\n",
              " 4.8,\n",
              " 6.4,\n",
              " 4.9,\n",
              " 4.0,\n",
              " 5.7,\n",
              " 5.5,\n",
              " 4.24,\n",
              " 5.0,\n",
              " 8.5,\n",
              " 14.7,\n",
              " 5.6,\n",
              " 7.2,\n",
              " 6.12,\n",
              " 6.0,\n",
              " 5.1,\n",
              " 7.05,\n",
              " 5.0,\n",
              " 4.57,\n",
              " 5.7,\n",
              " 6.77,\n",
              " 5.95,\n",
              " 6.4,\n",
              " 6.16,\n",
              " 7.75,\n",
              " 7.0,\n",
              " 5.45,\n",
              " 8.8,\n",
              " 4.5,\n",
              " 6.5,\n",
              " 6.0,\n",
              " 3.0,\n",
              " 4.86,\n",
              " 5.76,\n",
              " 5.0,\n",
              " 4.9,\n",
              " 5.25,\n",
              " 5.9,\n",
              " 4.52,\n",
              " 6.35,\n",
              " 5.68,\n",
              " 9.15,\n",
              " 6.42,\n",
              " 6.42,\n",
              " 5.6,\n",
              " 4.99,\n",
              " 7.16,\n",
              " 5.55,\n",
              " 4.7,\n",
              " 10.0,\n",
              " 5.55,\n",
              " 4.7,\n",
              " 8.25,\n",
              " 9.1,\n",
              " 7.9,\n",
              " 5.15,\n",
              " 5.3,\n",
              " 10.3,\n",
              " 5.55,\n",
              " 8.3,\n",
              " 5.0,\n",
              " 5.6,\n",
              " 5.28,\n",
              " 6.5,\n",
              " 5.53,\n",
              " 6.12,\n",
              " 6.5,\n",
              " 9.2,\n",
              " 9.5,\n",
              " 7.0,\n",
              " 5.6,\n",
              " 5.5,\n",
              " 5.0,\n",
              " 5.48,\n",
              " 6.34,\n",
              " 6.0,\n",
              " 5.0,\n",
              " 7.37,\n",
              " 7.01,\n",
              " 4.54,\n",
              " 4.57,\n",
              " 4.7,\n",
              " 5.48,\n",
              " 6.19,\n",
              " 4.54,\n",
              " 5.48,\n",
              " 5.48,\n",
              " 5.7,\n",
              " 5.15,\n",
              " 7.2,\n",
              " 6.4,\n",
              " 5.0,\n",
              " 9.9,\n",
              " 4.0,\n",
              " 7.35,\n",
              " 6.45,\n",
              " 6.3,\n",
              " 8.53,\n",
              " 5.6,\n",
              " 8.04,\n",
              " 7.15,\n",
              " 7.15,\n",
              " 5.47,\n",
              " 4.8,\n",
              " 5.7,\n",
              " 7.65,\n",
              " 5.01,\n",
              " 5.53,\n",
              " 5.83,\n",
              " 4.95,\n",
              " 6.5,\n",
              " 6.85,\n",
              " 6.22,\n",
              " 10.0,\n",
              " 22.0,\n",
              " 5.4,\n",
              " 5.0,\n",
              " 8.6,\n",
              " 10.0,\n",
              " 11.3,\n",
              " 7.0,\n",
              " 7.5,\n",
              " 5.0,\n",
              " 5.7,\n",
              " 8.5,\n",
              " 5.71,\n",
              " 6.5,\n",
              " 5.9,\n",
              " 5.4,\n",
              " 4.99,\n",
              " 5.95,\n",
              " 6.5,\n",
              " 7.5,\n",
              " 6.53,\n",
              " 7.96,\n",
              " 6.2,\n",
              " 7.35,\n",
              " 6.21,\n",
              " 6.1,\n",
              " 8.0,\n",
              " 5.59,\n",
              " 7.06,\n",
              " 8.8,\n",
              " 7.26,\n",
              " 5.33,\n",
              " 6.15,\n",
              " 6.0,\n",
              " 6.5,\n",
              " 6.1,\n",
              " 7.62,\n",
              " 4.67,\n",
              " 7.22,\n",
              " 5.52,\n",
              " 7.0,\n",
              " 6.4,\n",
              " 5.0,\n",
              " 6.14,\n",
              " 4.0,\n",
              " 4.86,\n",
              " 8.2,\n",
              " 8.2,\n",
              " 6.1,\n",
              " 5.0,\n",
              " 8.95,\n",
              " 9.3,\n",
              " 6.5,\n",
              " 8.6,\n",
              " 9.6,\n",
              " 5.89,\n",
              " 5.95,\n",
              " 6.1,\n",
              " 4.99,\n",
              " 5.5,\n",
              " 5.1,\n",
              " 9.0,\n",
              " 6.12,\n",
              " 4.78,\n",
              " 9.0,\n",
              " 9.0,\n",
              " 7.5,\n",
              " 7.83,\n",
              " 6.16,\n",
              " 5.6,\n",
              " 4.95,\n",
              " 5.97,\n",
              " 6.97,\n",
              " 6.23,\n",
              " 8.15,\n",
              " 5.1,\n",
              " 5.7,\n",
              " 8.5,\n",
              " 5.27,\n",
              " 5.75,\n",
              " 6.08,\n",
              " 5.3,\n",
              " 8.5,\n",
              " 7.63,\n",
              " 7.6,\n",
              " 8.12,\n",
              " 6.01,\n",
              " 6.77,\n",
              " 6.5,\n",
              " 5.13,\n",
              " 5.5,\n",
              " 7.8,\n",
              " 6.03,\n",
              " 6.03,\n",
              " 5.64,\n",
              " 5.64,\n",
              " 6.89,\n",
              " 6.6,\n",
              " 7.0,\n",
              " 4.75,\n",
              " 5.01,\n",
              " 5.5,\n",
              " 5.67,\n",
              " 6.45,\n",
              " 6.35,\n",
              " 8.0,\n",
              " 9.23,\n",
              " 5.03,\n",
              " 8.8,\n",
              " 6.47,\n",
              " 6.4,\n",
              " 6.4,\n",
              " 7.4,\n",
              " 6.0,\n",
              " 7.5,\n",
              " 10.45,\n",
              " 9.5,\n",
              " 7.5,\n",
              " 7.0,\n",
              " 5.2,\n",
              " 6.65,\n",
              " 10.8,\n",
              " 6.83,\n",
              " 7.5,\n",
              " 5.02,\n",
              " 10.0,\n",
              " 5.47,\n",
              " 5.65,\n",
              " 5.0,\n",
              " 5.28,\n",
              " 5.18,\n",
              " 6.74,\n",
              " 5.79,\n",
              " 5.79,\n",
              " 5.0,\n",
              " 7.15,\n",
              " 5.42,\n",
              " 7.28,\n",
              " 9.3,\n",
              " 6.19,\n",
              " 7.2,\n",
              " 6.25,\n",
              " 6.06,\n",
              " 5.78,\n",
              " 4.54,\n",
              " 7.05,\n",
              " 9.3,\n",
              " 7.12,\n",
              " 7.75,\n",
              " 8.66,\n",
              " 7.85,\n",
              " 8.35,\n",
              " 6.0,\n",
              " 6.6,\n",
              " 5.6,\n",
              " 5.5,\n",
              " 9.25,\n",
              " 6.37,\n",
              " 5.8,\n",
              " 7.3,\n",
              " 5.73,\n",
              " 5.25,\n",
              " 6.0,\n",
              " 7.5,\n",
              " 7.55,\n",
              " 5.3,\n",
              " 7.2,\n",
              " 7.68,\n",
              " 7.49,\n",
              " 7.5,\n",
              " 7.26,\n",
              " 6.94,\n",
              " 5.65,\n",
              " 7.5,\n",
              " 7.25,\n",
              " 8.0,\n",
              " 7.6,\n",
              " 6.1,\n",
              " 6.5,\n",
              " 6.05,\n",
              " 8.61,\n",
              " 5.0,\n",
              " 6.5,\n",
              " 9.5,\n",
              " 8.9,\n",
              " 6.0,\n",
              " 7.39,\n",
              " 7.07,\n",
              " 6.05,\n",
              " 8.44,\n",
              " 7.5,\n",
              " 6.66,\n",
              " 6.0,\n",
              " 7.8,\n",
              " 8.22,\n",
              " 6.4,\n",
              " 7.45,\n",
              " 9.81,\n",
              " 7.5,\n",
              " 6.7,\n",
              " 2.85,\n",
              " 6.5,\n",
              " 7.62,\n",
              " 7.65,\n",
              " 7.38,\n",
              " 10.6,\n",
              " 6.1,\n",
              " 8.05,\n",
              " 5.3,\n",
              " 6.43,\n",
              " 8.05,\n",
              " 7.49,\n",
              " 7.14,\n",
              " 4.89,\n",
              " 6.0,\n",
              " 9.9,\n",
              " 8.26,\n",
              " 6.7,\n",
              " 10.3,\n",
              " 6.77,\n",
              " 8.26,\n",
              " 7.6,\n",
              " 6.6,\n",
              " 6.82,\n",
              " 5.1,\n",
              " 4.98,\n",
              " 2.32,\n",
              " 5.0,\n",
              " 8.1,\n",
              " 7.43,\n",
              " 6.5,\n",
              " 6.48,\n",
              " 6.5,\n",
              " 6.1,\n",
              " 6.15,\n",
              " 5.3,\n",
              " 6.59,\n",
              " 6.77,\n",
              " 6.42,\n",
              " 4.6,\n",
              " 5.47,\n",
              " 8.43,\n",
              " 9.1,\n",
              " 6.3,\n",
              " 9.8,\n",
              " 5.95,\n",
              " 5.95,\n",
              " 6.12,\n",
              " 5.07,\n",
              " 5.97,\n",
              " 6.28,\n",
              " 9.8,\n",
              " 9.5,\n",
              " 9.75,\n",
              " 6.6,\n",
              " 7.52,\n",
              " 6.08,\n",
              " 5.99,\n",
              " 6.5,\n",
              " 6.05,\n",
              " 6.25,\n",
              " 8.25,\n",
              " 8.78,\n",
              " 9.1,\n",
              " 7.05,\n",
              " 7.05,\n",
              " 6.9,\n",
              " 5.7,\n",
              " 7.75,\n",
              " 6.9,\n",
              " 8.0,\n",
              " 6.3,\n",
              " 6.1,\n",
              " 5.3,\n",
              " 5.0,\n",
              " 6.43,\n",
              " 7.65,\n",
              " 8.25,\n",
              " 8.69,\n",
              " 9.2,\n",
              " 5.8,\n",
              " 6.5,\n",
              " 9.0,\n",
              " 5.38,\n",
              " 7.2,\n",
              " 8.83,\n",
              " 6.75,\n",
              " 7.0,\n",
              " 7.05,\n",
              " 7.4,\n",
              " 11.0,\n",
              " 6.86,\n",
              " 10.72,\n",
              " 8.05,\n",
              " 7.57,\n",
              " 9.2,\n",
              " 8.77,\n",
              " 10.0,\n",
              " 7.9,\n",
              " 7.01,\n",
              " 7.23,\n",
              " 7.77,\n",
              " 8.0,\n",
              " 7.85,\n",
              " 6.96,\n",
              " 9.1,\n",
              " 8.23,\n",
              " 6.22,\n",
              " 6.4,\n",
              " 5.89,\n",
              " 5.6,\n",
              " 5.21,\n",
              " 6.26,\n",
              " 9.4,\n",
              " 5.07,\n",
              " 5.65,\n",
              " 8.75,\n",
              " 7.5,\n",
              " 7.5,\n",
              " 9.5,\n",
              " 8.01,\n",
              " 8.13,\n",
              " 7.8,\n",
              " 10.0,\n",
              " 7.0,\n",
              " 9.4,\n",
              " 9.0,\n",
              " 5.87,\n",
              " 7.8,\n",
              " 10.2,\n",
              " 11.9,\n",
              " 10.1,\n",
              " 10.3,\n",
              " 6.7,\n",
              " 5.5,\n",
              " 10.0,\n",
              " 6.05,\n",
              " 5.7,\n",
              " 5.07,\n",
              " 6.05,\n",
              " 6.05,\n",
              " 7.8,\n",
              " 10.3,\n",
              " 8.38,\n",
              " 5.7,\n",
              " 6.12,\n",
              " 5.6,\n",
              " 8.5,\n",
              " 6.03,\n",
              " 5.5,\n",
              " 7.8,\n",
              " 8.73,\n",
              " 7.0,\n",
              " 9.23,\n",
              " 7.6,\n",
              " 6.5,\n",
              " 9.0,\n",
              " 7.23,\n",
              " 7.62,\n",
              " 6.7,\n",
              " 5.2,\n",
              " 6.99,\n",
              " 12.5,\n",
              " 6.12,\n",
              " 8.23,\n",
              " 10.8,\n",
              " 8.6,\n",
              " 6.5,\n",
              " 6.4,\n",
              " 7.6,\n",
              " 6.99,\n",
              " 39.13,\n",
              " 9.4,\n",
              " 10.8,\n",
              " 9.95,\n",
              " 8.85,\n",
              " 10.3,\n",
              " 11.5,\n",
              " 8.76,\n",
              " 9.5,\n",
              " 11.65,\n",
              " 6.24,\n",
              " 7.3,\n",
              " 11.34,\n",
              " 6.3,\n",
              " 5.79,\n",
              " 9.28,\n",
              " 10.6,\n",
              " 7.62,\n",
              " 7.0,\n",
              " 7.23,\n",
              " 6.52,\n",
              " 8.05,\n",
              " 9.1,\n",
              " 6.1,\n",
              " 7.3,\n",
              " 8.39,\n",
              " 8.5,\n",
              " 5.72,\n",
              " 6.17,\n",
              " 7.65,\n",
              " 9.2,\n",
              " 7.3,\n",
              " 7.5,\n",
              " 7.92,\n",
              " 10.3,\n",
              " 6.8,\n",
              " 7.1,\n",
              " 7.45,\n",
              " 7.9,\n",
              " 9.5,\n",
              " 8.0,\n",
              " 8.46,\n",
              " 5.64,\n",
              " 5.5,\n",
              " 6.4,\n",
              " 7.5,\n",
              " 8.44,\n",
              " 7.45,\n",
              " 7.49,\n",
              " 9.0,\n",
              " 7.0,\n",
              " 8.0,\n",
              " 6.82,\n",
              " 11.7,\n",
              " 13.0,\n",
              " 9.03,\n",
              " 6.4,\n",
              " 7.75,\n",
              " 7.0,\n",
              " 7.92,\n",
              " 6.83,\n",
              " 6.23,\n",
              " 9.3,\n",
              " 6.15,\n",
              " 8.25,\n",
              " 7.25,\n",
              " 8.35,\n",
              " 7.6,\n",
              " 7.75,\n",
              " 9.7,\n",
              " 6.35,\n",
              " 9.69,\n",
              " 9.95,\n",
              " 9.5,\n",
              " 9.7,\n",
              " 6.2,\n",
              " 5.94,\n",
              " 5.56,\n",
              " 6.9,\n",
              " 5.7,\n",
              " 5.75,\n",
              " 5.75,\n",
              " 6.02,\n",
              " 11.5,\n",
              " 7.3,\n",
              " 7.16,\n",
              " 5.3,\n",
              " 6.94,\n",
              " 6.55,\n",
              " 6.74,\n",
              " 6.58,\n",
              " 7.19,\n",
              " 7.74,\n",
              " 8.04,\n",
              " 7.8,\n",
              " 6.8,\n",
              " 6.0,\n",
              " 5.73,\n",
              " 6.6,\n",
              " 6.6,\n",
              " 6.02,\n",
              " 5.8,\n",
              " 5.0,\n",
              " 7.5,\n",
              " 6.65,\n",
              " 7.15,\n",
              " 7.87,\n",
              " 6.06,\n",
              " 7.8,\n",
              " 6.74,\n",
              " 6.8,\n",
              " 6.96,\n",
              " 5.94,\n",
              " 7.15,\n",
              " 6.4,\n",
              " 5.66,\n",
              " 8.1,\n",
              " 6.43,\n",
              " 7.8,\n",
              " 7.28,\n",
              " 7.3,\n",
              " 8.86,\n",
              " 7.32,\n",
              " 8.4,\n",
              " 7.36,\n",
              " 7.62,\n",
              " 6.0,\n",
              " 7.75,\n",
              " 6.23,\n",
              " 10.0,\n",
              " 7.75,\n",
              " 9.7,\n",
              " 8.99,\n",
              " 12.4,\n",
              " 6.5,\n",
              " 11.8,\n",
              " 7.8,\n",
              " 9.18,\n",
              " 8.85,\n",
              " 5.75,\n",
              " 6.5,\n",
              " 6.1,\n",
              " 8.35,\n",
              " 5.94,\n",
              " 9.0,\n",
              " 7.23,\n",
              " 5.3,\n",
              " 6.4,\n",
              " 5.6,\n",
              " 6.0,\n",
              " 7.43,\n",
              " 7.43,\n",
              " 8.6,\n",
              " 6.0,\n",
              " 5.56,\n",
              " 8.5,\n",
              " 9.0,\n",
              " 5.49,\n",
              " 6.05,\n",
              " 9.92,\n",
              " 8.6,\n",
              " 11.0,\n",
              " 9.3,\n",
              " 11.68,\n",
              " 9.14,\n",
              " 9.6,\n",
              " 9.45,\n",
              " 12.8,\n",
              " 8.5,\n",
              " 8.57,\n",
              " 6.22,\n",
              " 6.99,\n",
              " 6.6,\n",
              " 8.1,\n",
              " 6.04,\n",
              " 6.1,\n",
              " 8.35,\n",
              " 6.25,\n",
              " 6.4,\n",
              " 6.5,\n",
              " 6.5,\n",
              " 9.24,\n",
              " 7.8,\n",
              " 6.8,\n",
              " 8.6,\n",
              " 8.46,\n",
              " 9.14,\n",
              " 5.75,\n",
              " 6.1,\n",
              " 6.3,\n",
              " 10.5,\n",
              " 5.94,\n",
              " 6.2,\n",
              " 10.92,\n",
              " 11.0,\n",
              " 9.8,\n",
              " 8.4,\n",
              " 7.2,\n",
              " 5.52,\n",
              " 9.0,\n",
              " 8.3,\n",
              " 8.38,\n",
              " 10.85,\n",
              " 10.7,\n",
              " 7.76,\n",
              " 5.56,\n",
              " 8.8,\n",
              " 6.5,\n",
              " 5.5,\n",
              " 6.65,\n",
              " 5.5,\n",
              " 5.1,\n",
              " 6.8,\n",
              " 5.77,\n",
              " 8.45,\n",
              " 6.45,\n",
              " 5.7,\n",
              " 12.48,\n",
              " 6.0,\n",
              " 5.94,\n",
              " 10.0,\n",
              " 5.23,\n",
              " 5.99,\n",
              " 5.9,\n",
              " 5.7,\n",
              " 5.56,\n",
              " 6.1,\n",
              " 6.7,\n",
              " 8.0,\n",
              " 6.15,\n",
              " 6.0,\n",
              " 7.23,\n",
              " 5.7,\n",
              " 7.76,\n",
              " 7.47,\n",
              " 5.52,\n",
              " 12.5,\n",
              " 8.0,\n",
              " 7.2,\n",
              " 9.0,\n",
              " 7.88,\n",
              " 6.2,\n",
              " 6.0,\n",
              " 6.65,\n",
              " 7.0,\n",
              " 8.2,\n",
              " 5.73,\n",
              " 5.99,\n",
              " 6.66,\n",
              " 7.23,\n",
              " 6.99,\n",
              " 7.15,\n",
              " 6.88,\n",
              " 12.0,\n",
              " 6.7,\n",
              " 6.99,\n",
              " 9.85,\n",
              " 8.95,\n",
              " 5.23,\n",
              " 7.92,\n",
              " 6.97,\n",
              " 9.76,\n",
              " 8.1,\n",
              " 9.68,\n",
              " 7.34,\n",
              " 8.95,\n",
              " 10.2,\n",
              " 6.58,\n",
              " 9.83,\n",
              " 6.98,\n",
              " 7.48,\n",
              " 7.48,\n",
              " 8.5,\n",
              " 6.48,\n",
              " 9.18,\n",
              " 9.0,\n",
              " 7.7,\n",
              " 6.0,\n",
              " 7.64,\n",
              " 8.5,\n",
              " 6.48,\n",
              " 6.55,\n",
              " 6.23,\n",
              " 6.63,\n",
              " 6.4,\n",
              " 6.35,\n",
              " 9.15,\n",
              " 5.7,\n",
              " 8.13,\n",
              " 6.8,\n",
              " 9.7,\n",
              " 7.39,\n",
              " 7.39,\n",
              " 10.0,\n",
              " 9.0,\n",
              " 6.65,\n",
              " 7.05,\n",
              " 14.5,\n",
              " 9.5,\n",
              " 7.44,\n",
              " 8.04,\n",
              " 6.1,\n",
              " 8.23,\n",
              " 11.25,\n",
              " 9.54,\n",
              " 8.79,\n",
              " 8.12,\n",
              " 8.58,\n",
              " 11.4,\n",
              " 6.4,\n",
              " 10.3,\n",
              " 7.25,\n",
              " 6.92,\n",
              " 6.1,\n",
              " 6.86,\n",
              " 8.9,\n",
              " 13.0,\n",
              " 7.6,\n",
              " 5.75,\n",
              " 7.66,\n",
              " 6.0,\n",
              " 6.45,\n",
              " 10.0,\n",
              " 9.6,\n",
              " 9.92,\n",
              " 9.86,\n",
              " 8.0,\n",
              " 11.0,\n",
              " 9.3,\n",
              " 9.5,\n",
              " 8.54,\n",
              " 6.98,\n",
              " 5.7,\n",
              " 6.48,\n",
              " 5.3,\n",
              " 5.7,\n",
              " 6.64,\n",
              " 8.85,\n",
              " 6.1,\n",
              " 10.8,\n",
              " 6.48,\n",
              " ...]"
            ]
          },
          "metadata": {},
          "execution_count": 1360
        }
      ]
    },
    {
      "cell_type": "code",
      "source": [
        "#We have to assign the new column to the old one, in order to have one more float column \n",
        "boat_df['length'] = new_length"
      ],
      "metadata": {
        "id": "StveuneAEAt3"
      },
      "execution_count": 1361,
      "outputs": []
    },
    {
      "cell_type": "code",
      "source": [
        "boat_df.length"
      ],
      "metadata": {
        "colab": {
          "base_uri": "https://localhost:8080/"
        },
        "id": "rZ3TwPkEKPCq",
        "outputId": "9fc1ce82-908f-460a-de3f-20c6f45014e8"
      },
      "execution_count": 1362,
      "outputs": [
        {
          "output_type": "execute_result",
          "data": {
            "text/plain": [
              "0        4.00\n",
              "1        4.00\n",
              "2        3.69\n",
              "3        3.00\n",
              "4        6.30\n",
              "         ... \n",
              "10339    4.17\n",
              "10340    4.40\n",
              "10341    4.37\n",
              "10342    4.27\n",
              "10343    3.60\n",
              "Name: length, Length: 10344, dtype: float64"
            ]
          },
          "metadata": {},
          "execution_count": 1362
        }
      ]
    },
    {
      "cell_type": "code",
      "source": [
        "import math\n",
        "import numpy as np"
      ],
      "metadata": {
        "id": "sBdAnKKeKRjn"
      },
      "execution_count": 1363,
      "outputs": []
    },
    {
      "cell_type": "code",
      "source": [
        "#One person can be embarked for each linear meter of boat's length, therefore we can use this information in order to fill the nan values of this column\n",
        "null_cert_people = np.isnan(boat_df['cert_number_of_people']) "
      ],
      "metadata": {
        "id": "mNpKGWORMN8m"
      },
      "execution_count": 1364,
      "outputs": []
    },
    {
      "cell_type": "code",
      "source": [
        "boat_df['cert_number_of_people'][null_cert_people]"
      ],
      "metadata": {
        "colab": {
          "base_uri": "https://localhost:8080/"
        },
        "id": "xDT20qVIMWU5",
        "outputId": "ce7612c9-3387-4143-e188-9359d39b5ec3"
      },
      "execution_count": 1365,
      "outputs": [
        {
          "output_type": "execute_result",
          "data": {
            "text/plain": [
              "1       NaN\n",
              "3       NaN\n",
              "4       NaN\n",
              "8       NaN\n",
              "9       NaN\n",
              "         ..\n",
              "10327   NaN\n",
              "10328   NaN\n",
              "10334   NaN\n",
              "10336   NaN\n",
              "10339   NaN\n",
              "Name: cert_number_of_people, Length: 6747, dtype: float64"
            ]
          },
          "metadata": {},
          "execution_count": 1365
        }
      ]
    },
    {
      "cell_type": "code",
      "source": [
        "for i in boat_df['cert_number_of_people'][null_cert_people].index :\n",
        "  a = math.modf(boat_df.loc[i,'length']) #modf is a funcion that returns the fractional and integer parts of the number in a two-item tuple \n",
        "  boat_df.loc[i, 'cert_number_of_people'] = a[1] #we take the integer part"
      ],
      "metadata": {
        "id": "G8w8OOggMlpn"
      },
      "execution_count": 1366,
      "outputs": []
    },
    {
      "cell_type": "code",
      "source": [
        "#We can notice we have gained more values\n",
        "boat_df.info()"
      ],
      "metadata": {
        "colab": {
          "base_uri": "https://localhost:8080/"
        },
        "id": "7XBlO2TGO_U2",
        "outputId": "37cce9af-821d-4d0e-ff0c-20cfb9e2a3ce"
      },
      "execution_count": 1367,
      "outputs": [
        {
          "output_type": "stream",
          "name": "stdout",
          "text": [
            "<class 'pandas.core.frame.DataFrame'>\n",
            "RangeIndex: 10344 entries, 0 to 10343\n",
            "Data columns (total 38 columns):\n",
            " #   Column                       Non-Null Count  Dtype  \n",
            "---  ------                       --------------  -----  \n",
            " 0   price                        10344 non-null  object \n",
            " 1   category                     10344 non-null  object \n",
            " 2   boat_type                    10344 non-null  object \n",
            " 3   manufacturer                 8954 non-null   object \n",
            " 4   model                        10341 non-null  object \n",
            " 5   boat_name                    1313 non-null   object \n",
            " 6   type                         10339 non-null  object \n",
            " 7   year_built                   9777 non-null   float64\n",
            " 8   condition                    3375 non-null   object \n",
            " 9   length                       10334 non-null  float64\n",
            " 10  width                        10281 non-null  object \n",
            " 11  depth                        7234 non-null   object \n",
            " 12  displacement                 5051 non-null   object \n",
            " 13  ce_design_category           782 non-null    object \n",
            " 14  cert_number_of_people        10336 non-null  float64\n",
            " 15  number_of_cabins             6475 non-null   float64\n",
            " 16  number_of_beds               6407 non-null   float64\n",
            " 17  hull_color                   3311 non-null   object \n",
            " 18  number_of_toilets            2156 non-null   float64\n",
            " 19  number_of_bathrooms          463 non-null    float64\n",
            " 20  number_of_showers            1941 non-null   float64\n",
            " 21  material                     8512 non-null   object \n",
            " 22  fresh_water_cap              2118 non-null   object \n",
            " 23  holding_tank                 819 non-null    object \n",
            " 24  propulsion                   3291 non-null   object \n",
            " 25  engine                       9535 non-null   object \n",
            " 26  engine_performance           8063 non-null   object \n",
            " 27  fuel_capacity                6814 non-null   object \n",
            " 28  fuel_type                    8022 non-null   object \n",
            " 29  engine_hours                 5133 non-null   object \n",
            " 30  max_speed                    892 non-null    object \n",
            " 31  cruising_speed               547 non-null    object \n",
            " 32  location                     10301 non-null  object \n",
            " 33  advertisement_date           870 non-null    object \n",
            " 34  number_of_views_last_7_days  9981 non-null   object \n",
            " 35  comments                     7078 non-null   object \n",
            " 36  additional_comments          2454 non-null   object \n",
            " 37  equipment                    6174 non-null   object \n",
            "dtypes: float64(8), object(30)\n",
            "memory usage: 3.0+ MB\n"
          ]
        }
      ]
    },
    {
      "cell_type": "code",
      "source": [
        "#Width can be turned into float as well\n",
        "new_width = []\n",
        "for i in range(10344):\n",
        "  item = str(boat_df.loc[i,'width'])\n",
        "  new_item = item.replace(' m','')\n",
        "  value = float(new_item)\n",
        "  new_width.append(value)\n",
        "\n",
        "boat_df['width'] = new_width"
      ],
      "metadata": {
        "id": "qEfiX0JS1XL5"
      },
      "execution_count": 1368,
      "outputs": []
    },
    {
      "cell_type": "code",
      "source": [
        "boat_df.depth"
      ],
      "metadata": {
        "id": "CR2HqGPn2myq",
        "colab": {
          "base_uri": "https://localhost:8080/"
        },
        "outputId": "7b609caf-806c-430b-d297-c6be1c606d86"
      },
      "execution_count": 1369,
      "outputs": [
        {
          "output_type": "execute_result",
          "data": {
            "text/plain": [
              "0           NaN\n",
              "1           NaN\n",
              "2        0.25 m\n",
              "3           NaN\n",
              "4        0.75 m\n",
              "          ...  \n",
              "10339       NaN\n",
              "10340    0.22 m\n",
              "10341       NaN\n",
              "10342       NaN\n",
              "10343       NaN\n",
              "Name: depth, Length: 10344, dtype: object"
            ]
          },
          "metadata": {},
          "execution_count": 1369
        }
      ]
    },
    {
      "cell_type": "code",
      "source": [
        "#Depth can be turned into float\n",
        "new_depth = []\n",
        "for i in range(10344):\n",
        "  item = str(boat_df.loc[i,'depth'])\n",
        "  new_item = item.replace(' m','')\n",
        "  value = float(new_item)\n",
        "  new_depth.append(value)\n",
        "\n",
        "boat_df['depth'] = new_depth"
      ],
      "metadata": {
        "id": "HRFpSFaM2fvW"
      },
      "execution_count": 1370,
      "outputs": []
    },
    {
      "cell_type": "code",
      "source": [
        "boat_df.dropna(subset = ['width'], inplace=True)"
      ],
      "metadata": {
        "id": "v25tEwO72ezL"
      },
      "execution_count": 1371,
      "outputs": []
    },
    {
      "cell_type": "code",
      "source": [
        "boat_df['depth'].fillna(boat_df['depth'].mean(), inplace=True)"
      ],
      "metadata": {
        "id": "9DH7mOen0yoE"
      },
      "execution_count": 1372,
      "outputs": []
    },
    {
      "cell_type": "code",
      "source": [
        "boat_df.engine.value_counts().head(10) #check of the types of engines"
      ],
      "metadata": {
        "colab": {
          "base_uri": "https://localhost:8080/"
        },
        "id": "mYTIl4PXrtfM",
        "outputId": "b28830f4-93c4-4974-dad3-942f22887a3f"
      },
      "execution_count": 1373,
      "outputs": [
        {
          "output_type": "execute_result",
          "data": {
            "text/plain": [
              "Volvo Penta                            373\n",
              "VOLVO                                  266\n",
              "MAN                                    250\n",
              "SUZUKI                                 188\n",
              "VOLVO PENTA                            171\n",
              "Mercury                                133\n",
              "YAMAHA                                 120\n",
              "MERCURY                                115\n",
              "Mercruiser                             115\n",
              " (Permission for Lake of Constance)    106\n",
              "Name: engine, dtype: int64"
            ]
          },
          "metadata": {},
          "execution_count": 1373
        }
      ]
    },
    {
      "cell_type": "code",
      "source": [
        "boat_df.engine.fillna('unknown', inplace=True)"
      ],
      "metadata": {
        "id": "BGl9lJg3FouG"
      },
      "execution_count": 1374,
      "outputs": []
    },
    {
      "cell_type": "code",
      "source": [
        "boat_df.engine =  list(map(lambda x : str(x).replace(' ', '_').lower(), boat_df.engine)) #some are the same but for python are differend due to the uppercase letters"
      ],
      "metadata": {
        "id": "Y7qiWF0x51ak"
      },
      "execution_count": 1375,
      "outputs": []
    },
    {
      "cell_type": "code",
      "source": [
        "boat_df.engine.value_counts().head(20)"
      ],
      "metadata": {
        "colab": {
          "base_uri": "https://localhost:8080/"
        },
        "id": "ZSj_hHV_6X2a",
        "outputId": "e32fa55f-70db-4af2-9c27-034a9da06993"
      },
      "execution_count": 1376,
      "outputs": [
        {
          "output_type": "execute_result",
          "data": {
            "text/plain": [
              "unknown                                          795\n",
              "volvo_penta                                      617\n",
              "volvo                                            374\n",
              "suzuki                                           300\n",
              "man                                              280\n",
              "mercury                                          253\n",
              "yamaha                                           216\n",
              "mercruiser                                       204\n",
              "caterpillar                                      149\n",
              "yanmar                                           136\n",
              "cummins                                          115\n",
              "mtu                                              108\n",
              "_(permission_for_lake_of_constance)              106\n",
              "honda                                             63\n",
              "volvo_penta_d6                                    53\n",
              "volvo_penta_d4                                    41\n",
              "nanni                                             38\n",
              "volvo_penta_ips_600                               33\n",
              "mercruiser_(permission_for_lake_of_constance)     32\n",
              "mercury_verado                                    27\n",
              "Name: engine, dtype: int64"
            ]
          },
          "metadata": {},
          "execution_count": 1376
        }
      ]
    },
    {
      "cell_type": "code",
      "source": [
        "boat_df[pd.isnull(boat_df['fuel_type'])]['engine'].value_counts().head(6) #check of the first five (known) engines with unknown fuel type, in order to fill these null values"
      ],
      "metadata": {
        "colab": {
          "base_uri": "https://localhost:8080/"
        },
        "id": "pMvn9_J06kFr",
        "outputId": "742eccfc-58e3-422b-85e3-803c3ceeaef1"
      },
      "execution_count": 1377,
      "outputs": [
        {
          "output_type": "execute_result",
          "data": {
            "text/plain": [
              "unknown                                712\n",
              "_(permission_for_lake_of_constance)     89\n",
              "volvo_penta                             54\n",
              "yamaha                                  32\n",
              "mercruiser                              27\n",
              "mercury                                 26\n",
              "Name: engine, dtype: int64"
            ]
          },
          "metadata": {},
          "execution_count": 1377
        }
      ]
    },
    {
      "cell_type": "code",
      "source": [
        "#Ignoring the unknown values, the first five most common engines of the boats which have null-value fuel type are all diesel\n",
        "boat_df.loc[pd.isnull(boat_df['fuel_type']),'fuel_type'] = 'Diesel'"
      ],
      "metadata": {
        "id": "Uskj7jvMNNuN"
      },
      "execution_count": 1378,
      "outputs": []
    },
    {
      "cell_type": "code",
      "source": [
        "boat_df.location.value_counts().head(20)"
      ],
      "metadata": {
        "colab": {
          "base_uri": "https://localhost:8080/"
        },
        "id": "2v45iam09hC_",
        "outputId": "3ab74bcb-86bb-48d8-afa5-75e72fb6859a"
      },
      "execution_count": 1379,
      "outputs": [
        {
          "output_type": "execute_result",
          "data": {
            "text/plain": [
              "Netherlands Â» In verkoophaven                 332\n",
              "Croatia (Hrvatska)                             244\n",
              "Italy Â» Toscana Â» Toscana                    181\n",
              "Italy                                          171\n",
              "France                                         158\n",
              "Italy Â» Mar Tirreno                           129\n",
              "Italy Â» Campania Â» Campania                  112\n",
              "Netherlands                                     96\n",
              "Spain Â» Mallorca Â» Mallorca                   96\n",
              "Germany                                         80\n",
              "Denmark Â» Svendborg                            71\n",
              "Italy Â» Liguria Â» Liguria                     70\n",
              "Croatia (Hrvatska) Â» INFO DD-YACHTING          69\n",
              "Netherlands Â» onbekend                         68\n",
              "Italy Â» Aprilia Marittima di Latisana (UD)     68\n",
              "Italy Â» Sardegna Â» Sardegna                   58\n",
              "Italy Â» Veneto Â» Veneto                       56\n",
              "Germany Â» 1                                    53\n",
              "Italy Â» Nord Adria                             53\n",
              "Italy Â» Lazio Â» Lazio                         51\n",
              "Name: location, dtype: int64"
            ]
          },
          "metadata": {},
          "execution_count": 1379
        }
      ]
    },
    {
      "cell_type": "code",
      "source": [
        "def first_word(a_string):\n",
        "  '''\n",
        "  This function returns the first word of a string\n",
        "  input: a_string\n",
        "  output: first word of the input string\n",
        "  '''\n",
        "  all_words = a_string.split() #split is a method that puts in a list all words of the input string\n",
        "  my_word= all_words[0]\n",
        "  return my_word"
      ],
      "metadata": {
        "id": "1-eJZdzvyKuC"
      },
      "execution_count": 1380,
      "outputs": []
    },
    {
      "cell_type": "code",
      "source": [
        "boat_df['location'].fillna('Unknown', inplace=True)"
      ],
      "metadata": {
        "id": "gKOk1EAg7i8x"
      },
      "execution_count": 1381,
      "outputs": []
    },
    {
      "cell_type": "code",
      "source": [
        "new_location = []\n",
        "for i in range(len(boat_df)):\n",
        "  position = first_word(boat_df.iloc[i,32]) #location is the 32nd column\n",
        "  new_location.append(position)\n",
        "\n",
        "boat_df.location = new_location"
      ],
      "metadata": {
        "id": "q7yBeUq11CGf"
      },
      "execution_count": 1382,
      "outputs": []
    },
    {
      "cell_type": "code",
      "source": [
        "boat_df.location.value_counts()"
      ],
      "metadata": {
        "colab": {
          "base_uri": "https://localhost:8080/"
        },
        "id": "LlwTxcin_pYp",
        "outputId": "1079b157-2c40-4a98-98f2-e5e9824a60e0"
      },
      "execution_count": 1383,
      "outputs": [
        {
          "output_type": "execute_result",
          "data": {
            "text/plain": [
              "Germany        1995\n",
              "Italy          1842\n",
              "France         1270\n",
              "Switzerland    1173\n",
              "Netherlands    1095\n",
              "               ... \n",
              "Venezuela         1\n",
              "Luxembourg        1\n",
              "Philippines       1\n",
              "Ã                 1\n",
              "Thun              1\n",
              "Name: location, Length: 132, dtype: int64"
            ]
          },
          "metadata": {},
          "execution_count": 1383
        }
      ]
    },
    {
      "cell_type": "code",
      "source": [
        "boat_df.manufacturer.fillna('Unknown', inplace=True)\n",
        "boat_df.model.fillna('Unknown', inplace=True)\n",
        "boat_df.condition.fillna('unknown', inplace=True)"
      ],
      "metadata": {
        "id": "ZJu6uWlZLQOS"
      },
      "execution_count": 1384,
      "outputs": []
    },
    {
      "cell_type": "code",
      "source": [
        "#number_of_views_last_7_days into float \n",
        "new_views = []\n",
        "for i in boat_df.index:\n",
        "  item = boat_df.loc[i,'number_of_views_last_7_days']\n",
        "  item = str(item).replace(\"'\",\"\")\n",
        "\n",
        "  new_views.append(float(item))\n",
        "\n",
        "boat_df['number_of_views_last_7_days'] = new_views"
      ],
      "metadata": {
        "id": "fGUlfciG8H0y"
      },
      "execution_count": 1385,
      "outputs": []
    },
    {
      "cell_type": "code",
      "source": [
        "boat_df['number_of_views_last_7_days'].fillna(boat_df['number_of_views_last_7_days'].mean(), inplace=True)"
      ],
      "metadata": {
        "id": "JKZOzK4bDW3M"
      },
      "execution_count": 1386,
      "outputs": []
    },
    {
      "cell_type": "code",
      "source": [
        "boat_df.drop(['type','boat_name','year_built','displacement','ce_design_category','engine_performance','fuel_capacity','advertisement_date'],inplace= True, axis=1 )"
      ],
      "metadata": {
        "id": "FNGMT9ZhUR2n"
      },
      "execution_count": 1387,
      "outputs": []
    },
    {
      "cell_type": "code",
      "source": [
        "boat_df.drop(boat_df.iloc[:, 10:20], inplace=True, axis = 1)"
      ],
      "metadata": {
        "id": "Oc04fOhfgFPw"
      },
      "execution_count": 1388,
      "outputs": []
    },
    {
      "cell_type": "code",
      "source": [
        "boat_df.drop(boat_df.iloc[:, 12:15], inplace=True, axis = 1)"
      ],
      "metadata": {
        "id": "8ZhydLzqguRy"
      },
      "execution_count": 1389,
      "outputs": []
    },
    {
      "cell_type": "code",
      "source": [
        "boat_df.drop(boat_df.iloc[:, 14::], inplace=True, axis = 1)"
      ],
      "metadata": {
        "id": "SSaNIhDWg63V"
      },
      "execution_count": 1390,
      "outputs": []
    },
    {
      "cell_type": "code",
      "source": [
        "boat_df.info()"
      ],
      "metadata": {
        "colab": {
          "base_uri": "https://localhost:8080/"
        },
        "id": "CrDq3hYYc5-o",
        "outputId": "806ecb1a-aa2d-4b14-ffbd-99280ade678d"
      },
      "execution_count": 1391,
      "outputs": [
        {
          "output_type": "stream",
          "name": "stdout",
          "text": [
            "<class 'pandas.core.frame.DataFrame'>\n",
            "Int64Index: 10281 entries, 0 to 10343\n",
            "Data columns (total 14 columns):\n",
            " #   Column                       Non-Null Count  Dtype  \n",
            "---  ------                       --------------  -----  \n",
            " 0   price                        10281 non-null  object \n",
            " 1   category                     10281 non-null  object \n",
            " 2   boat_type                    10281 non-null  object \n",
            " 3   manufacturer                 10281 non-null  object \n",
            " 4   model                        10281 non-null  object \n",
            " 5   condition                    10281 non-null  object \n",
            " 6   length                       10281 non-null  float64\n",
            " 7   width                        10281 non-null  float64\n",
            " 8   depth                        10281 non-null  float64\n",
            " 9   cert_number_of_people        10281 non-null  float64\n",
            " 10  engine                       10281 non-null  object \n",
            " 11  fuel_type                    10281 non-null  object \n",
            " 12  location                     10281 non-null  object \n",
            " 13  number_of_views_last_7_days  10281 non-null  float64\n",
            "dtypes: float64(5), object(9)\n",
            "memory usage: 1.4+ MB\n"
          ]
        }
      ]
    },
    {
      "cell_type": "code",
      "source": [
        "boat_df.price.head(10)"
      ],
      "metadata": {
        "colab": {
          "base_uri": "https://localhost:8080/"
        },
        "id": "GEaxG7B8c7ue",
        "outputId": "82707a26-2f6a-4e67-8f89-d7fab8741d29"
      },
      "execution_count": 1392,
      "outputs": [
        {
          "output_type": "execute_result",
          "data": {
            "text/plain": [
              "0      CHF 3.337,-\n",
              "1      EUR 3.490,-\n",
              "2      CHF 3.770,-\n",
              "3     DKK 25.900,-\n",
              "4     SEK 35.000,-\n",
              "5      EUR 3.399,-\n",
              "6      CHF 3.650,-\n",
              "7      CHF 3.600,-\n",
              "9      EUR 3.333,-\n",
              "10     EUR 3.300,-\n",
              "Name: price, dtype: object"
            ]
          },
          "metadata": {},
          "execution_count": 1392
        }
      ]
    },
    {
      "cell_type": "code",
      "source": [
        "#In order to understand which are the currencies in the column price:\n",
        "currencies = []\n",
        "for k in boat_df.index:\n",
        "  currencies.append(first_word(str(boat_df.loc[k,'price'])))\n",
        "\n",
        "currencies_series = pd.Series(currencies) #as value_counts() can't be used on a list\n",
        "currencies_series.value_counts()"
      ],
      "metadata": {
        "colab": {
          "base_uri": "https://localhost:8080/"
        },
        "id": "qqrXdX72ZGNP",
        "outputId": "2d86d318-1312-4cc8-bfd8-e7cedc203920"
      },
      "execution_count": 1393,
      "outputs": [
        {
          "output_type": "execute_result",
          "data": {
            "text/plain": [
              "EUR      8645\n",
              "CHF      1034\n",
              "Â£        306\n",
              "DKK       178\n",
              "Price      44\n",
              "USD        38\n",
              "SEK        36\n",
              "dtype: int64"
            ]
          },
          "metadata": {},
          "execution_count": 1393
        }
      ]
    },
    {
      "cell_type": "code",
      "source": [
        "#What 'Price' really is?\n",
        "for i in boat_df.index:\n",
        "  if 'Price' in boat_df.loc[i,'price'].split():\n",
        "    print(boat_df.loc[i, 'price'])"
      ],
      "metadata": {
        "colab": {
          "base_uri": "https://localhost:8080/"
        },
        "id": "hCPpCSGgaaSS",
        "outputId": "e3dcd961-eccd-42a6-d672-23c66476074d"
      },
      "execution_count": 1394,
      "outputs": [
        {
          "output_type": "stream",
          "name": "stdout",
          "text": [
            "Price on request\n",
            "Price on request\n",
            "Price on request\n",
            "Price on request\n",
            "Price on request\n",
            "Price on request\n",
            "Price on request\n",
            "Price on request\n",
            "Price on request\n",
            "Price on request\n",
            "Price on request\n",
            "Price on request\n",
            "Price on request\n",
            "Price on request\n",
            "Price on request\n",
            "Price on request\n",
            "Price on request\n",
            "Price on request\n",
            "Price on request\n",
            "Price on request\n",
            "Price on request\n",
            "Price on request\n",
            "Price on request\n",
            "Price on request\n",
            "Price on request\n",
            "Price on request\n",
            "Price on request\n",
            "Price on request\n",
            "Price on request\n",
            "Price on request\n",
            "Price on request\n",
            "Price on request\n",
            "Price on request\n",
            "Price on request\n",
            "Price on request\n",
            "Price on request\n",
            "Price on request\n",
            "Price on request\n",
            "Price on request\n",
            "Price on request\n",
            "Price on request\n",
            "Price on request\n",
            "Price on request\n",
            "Price on request\n"
          ]
        }
      ]
    },
    {
      "cell_type": "code",
      "source": [
        "#Simplification of column price\n",
        "new_prices = []\n",
        "for i in boat_df.price.index:\n",
        "  item = str(boat_df.loc[i,'price'])\n",
        "  new_item = item.replace(',-','')\n",
        "  new_prices.append(new_item)\n",
        "\n",
        "boat_df.price = new_prices"
      ],
      "metadata": {
        "id": "QIBZB3AWV8Ka"
      },
      "execution_count": 1395,
      "outputs": []
    },
    {
      "cell_type": "code",
      "source": [
        "boat_df.price"
      ],
      "metadata": {
        "colab": {
          "base_uri": "https://localhost:8080/"
        },
        "id": "Ow7XnbUpXCO5",
        "outputId": "2595936b-a348-4926-fa9b-66aa8453705f"
      },
      "execution_count": 1396,
      "outputs": [
        {
          "output_type": "execute_result",
          "data": {
            "text/plain": [
              "0         CHF 3.337\n",
              "1         EUR 3.490\n",
              "2         CHF 3.770\n",
              "3        DKK 25.900\n",
              "4        SEK 35.000\n",
              "            ...    \n",
              "10339     EUR 4.516\n",
              "10340     EUR 4.499\n",
              "10341     EUR 4.300\n",
              "10342     EUR 3.500\n",
              "10343     CHF 3.780\n",
              "Name: price, Length: 10281, dtype: object"
            ]
          },
          "metadata": {},
          "execution_count": 1396
        }
      ]
    },
    {
      "cell_type": "code",
      "source": [
        "#example of what I'm going to do, using the tax of convesion of CHF in EUR\n",
        "words_price = boat_df.loc[0, 'price'].split()\n",
        "words_price[1] = float(words_price[1])*1000*1.01\n",
        "price_in_euro = words_price[1]\n",
        "price_in_euro"
      ],
      "metadata": {
        "colab": {
          "base_uri": "https://localhost:8080/"
        },
        "id": "otw3u0vjW2Bj",
        "outputId": "643fa910-87c3-444b-f680-9e9f6970873e"
      },
      "execution_count": 1397,
      "outputs": [
        {
          "output_type": "execute_result",
          "data": {
            "text/plain": [
              "3370.37"
            ]
          },
          "metadata": {},
          "execution_count": 1397
        }
      ]
    },
    {
      "cell_type": "code",
      "source": [
        "#modification of all the column price in EUR\n",
        "for i in boat_df.index:\n",
        "  if 'CHF' in str(boat_df.loc[i, 'price']):\n",
        "    words_price = boat_df.loc[i, 'price'].split()\n",
        "    if len(words_price[1])<7:\n",
        "      words_price[1] = (float(words_price[1])*1000)*1.01\n",
        "      boat_df.loc[i, 'price'] = words_price[1]\n",
        "    else:\n",
        "      words_price[1] = float(words_price[1].replace('.',''))*1.01\n",
        "      boat_df.loc[i, 'price'] = words_price[1]\n",
        "  elif 'Â£' in str(boat_df.loc[i, 'price']):\n",
        "    words_price = boat_df.loc[i, 'price'].split()\n",
        "    if len(words_price[1])<7:\n",
        "      words_price[1] = (float(words_price[1])*1000)*1.13\n",
        "      boat_df.loc[i, 'price'] = words_price[1]\n",
        "    else:\n",
        "      words_price[1] = float(words_price[1].replace('.',''))*1.13\n",
        "      boat_df.loc[i, 'price'] = words_price[1]\n",
        "  elif 'DKK' in str(boat_df.loc[i, 'price']):\n",
        "    words_price = boat_df.loc[i, 'price'].split()\n",
        "    if len(words_price[1])<7:\n",
        "      words_price[1] = (float(words_price[1])*1000)*0.13\n",
        "      boat_df.loc[i, 'price'] = words_price[1]\n",
        "    else:\n",
        "      words_price[1] = float(words_price[1].replace('.',''))*0.13\n",
        "      boat_df.loc[i, 'price'] = words_price[1]\n",
        "  elif 'USD' in str(boat_df.loc[i, 'price']):\n",
        "    words_price = boat_df.loc[i, 'price'].split()\n",
        "    if len(words_price[1])<7:\n",
        "      words_price[1] = (float(words_price[1])*1000)*0.93\n",
        "      boat_df.loc[i, 'price'] = words_price[1]\n",
        "    else:\n",
        "      words_price[1] = float(words_price[1].replace('.',''))*0.93\n",
        "      boat_df.loc[i, 'price'] = words_price[1]\n",
        "  elif 'SEK' in str(boat_df.loc[i, 'price']):\n",
        "    words_price = boat_df.loc[i, 'price'].split()\n",
        "    if len(words_price[1])<7:\n",
        "      words_price[1] = (float(words_price[1])*1000)*0.09\n",
        "      boat_df.loc[i, 'price'] = words_price[1]\n",
        "    else:\n",
        "      words_price[1] = float(words_price[1].replace('.',''))*0.09\n",
        "      boat_df.loc[i, 'price'] = words_price[1]\n",
        "  elif 'EUR' in str(boat_df.loc[i, 'price']):\n",
        "    words_price = boat_df.loc[i, 'price'].split()\n",
        "    words_price[1] = float(words_price[1].replace('.',''))\n",
        "    boat_df.loc[i, 'price'] = words_price[1]\n",
        "  else: #the case of 'Price on request'\n",
        "    pass\n"
      ],
      "metadata": {
        "id": "uXOnjqJyYpZD"
      },
      "execution_count": 1398,
      "outputs": []
    },
    {
      "cell_type": "code",
      "source": [
        "boat_df.price"
      ],
      "metadata": {
        "colab": {
          "base_uri": "https://localhost:8080/"
        },
        "id": "TEk7eRKfku_E",
        "outputId": "1f6e7dfc-c4c5-4f86-87ee-1727545ce755"
      },
      "execution_count": 1399,
      "outputs": [
        {
          "output_type": "execute_result",
          "data": {
            "text/plain": [
              "0        3370.37\n",
              "1         3490.0\n",
              "2         3807.7\n",
              "3         3367.0\n",
              "4         3150.0\n",
              "          ...   \n",
              "10339     4516.0\n",
              "10340     4499.0\n",
              "10341     4300.0\n",
              "10342     3500.0\n",
              "10343     3817.8\n",
              "Name: price, Length: 10281, dtype: object"
            ]
          },
          "metadata": {},
          "execution_count": 1399
        }
      ]
    },
    {
      "cell_type": "code",
      "source": [
        "mean_price = boat_df[boat_df.loc[:,'price'] != 'Price on request'].price.astype(float).mean() #mean of the numerical values of this column, that I'll use to fill the 'price on request' entries"
      ],
      "metadata": {
        "id": "EWg7z39u42xt"
      },
      "execution_count": 1400,
      "outputs": []
    },
    {
      "cell_type": "code",
      "source": [
        "boat_df.loc[boat_df.loc[:,'price'] == 'Price on request', 'price'] = mean_price "
      ],
      "metadata": {
        "id": "fOfeglg95mkW"
      },
      "execution_count": 1401,
      "outputs": []
    },
    {
      "cell_type": "code",
      "source": [
        "boat_df.price = boat_df.price.astype(float) #column price into float"
      ],
      "metadata": {
        "id": "oiE5rkfs5t8i"
      },
      "execution_count": 1402,
      "outputs": []
    },
    {
      "cell_type": "code",
      "source": [
        "boat_df.describe()"
      ],
      "metadata": {
        "colab": {
          "base_uri": "https://localhost:8080/",
          "height": 297
        },
        "id": "-N7psuQc55cq",
        "outputId": "f5dfe081-10aa-45e5-e824-6c593f5c807b"
      },
      "execution_count": 1403,
      "outputs": [
        {
          "output_type": "execute_result",
          "data": {
            "text/plain": [
              "              price        length        width         depth  \\\n",
              "count  1.028100e+04  10281.000000  10281.00000  10281.000000   \n",
              "mean   3.003486e+05     11.512953      3.51229      1.122363   \n",
              "std    9.741755e+05      5.975419      1.22392      2.049708   \n",
              "min    3.150000e+03      1.040000      0.01000      0.010000   \n",
              "25%    4.220000e+04      7.440000      2.54000      0.860000   \n",
              "50%    9.087000e+04     10.200000      3.30000      1.122363   \n",
              "75%    2.490000e+05     13.880000      4.25000      1.122363   \n",
              "max    3.100000e+07    100.000000     25.16000     85.000000   \n",
              "\n",
              "       cert_number_of_people  number_of_views_last_7_days  \n",
              "count           10281.000000                 10281.000000  \n",
              "mean               10.909542                   149.379988  \n",
              "std                15.116609                   149.646987  \n",
              "min                 1.000000                    13.000000  \n",
              "25%                 7.000000                    71.000000  \n",
              "50%                10.000000                   110.000000  \n",
              "75%                13.000000                   168.000000  \n",
              "max              1200.000000                  3263.000000  "
            ],
            "text/html": [
              "\n",
              "  <div id=\"df-bc618949-8ec8-4490-9d2b-28789654e880\">\n",
              "    <div class=\"colab-df-container\">\n",
              "      <div>\n",
              "<style scoped>\n",
              "    .dataframe tbody tr th:only-of-type {\n",
              "        vertical-align: middle;\n",
              "    }\n",
              "\n",
              "    .dataframe tbody tr th {\n",
              "        vertical-align: top;\n",
              "    }\n",
              "\n",
              "    .dataframe thead th {\n",
              "        text-align: right;\n",
              "    }\n",
              "</style>\n",
              "<table border=\"1\" class=\"dataframe\">\n",
              "  <thead>\n",
              "    <tr style=\"text-align: right;\">\n",
              "      <th></th>\n",
              "      <th>price</th>\n",
              "      <th>length</th>\n",
              "      <th>width</th>\n",
              "      <th>depth</th>\n",
              "      <th>cert_number_of_people</th>\n",
              "      <th>number_of_views_last_7_days</th>\n",
              "    </tr>\n",
              "  </thead>\n",
              "  <tbody>\n",
              "    <tr>\n",
              "      <th>count</th>\n",
              "      <td>1.028100e+04</td>\n",
              "      <td>10281.000000</td>\n",
              "      <td>10281.00000</td>\n",
              "      <td>10281.000000</td>\n",
              "      <td>10281.000000</td>\n",
              "      <td>10281.000000</td>\n",
              "    </tr>\n",
              "    <tr>\n",
              "      <th>mean</th>\n",
              "      <td>3.003486e+05</td>\n",
              "      <td>11.512953</td>\n",
              "      <td>3.51229</td>\n",
              "      <td>1.122363</td>\n",
              "      <td>10.909542</td>\n",
              "      <td>149.379988</td>\n",
              "    </tr>\n",
              "    <tr>\n",
              "      <th>std</th>\n",
              "      <td>9.741755e+05</td>\n",
              "      <td>5.975419</td>\n",
              "      <td>1.22392</td>\n",
              "      <td>2.049708</td>\n",
              "      <td>15.116609</td>\n",
              "      <td>149.646987</td>\n",
              "    </tr>\n",
              "    <tr>\n",
              "      <th>min</th>\n",
              "      <td>3.150000e+03</td>\n",
              "      <td>1.040000</td>\n",
              "      <td>0.01000</td>\n",
              "      <td>0.010000</td>\n",
              "      <td>1.000000</td>\n",
              "      <td>13.000000</td>\n",
              "    </tr>\n",
              "    <tr>\n",
              "      <th>25%</th>\n",
              "      <td>4.220000e+04</td>\n",
              "      <td>7.440000</td>\n",
              "      <td>2.54000</td>\n",
              "      <td>0.860000</td>\n",
              "      <td>7.000000</td>\n",
              "      <td>71.000000</td>\n",
              "    </tr>\n",
              "    <tr>\n",
              "      <th>50%</th>\n",
              "      <td>9.087000e+04</td>\n",
              "      <td>10.200000</td>\n",
              "      <td>3.30000</td>\n",
              "      <td>1.122363</td>\n",
              "      <td>10.000000</td>\n",
              "      <td>110.000000</td>\n",
              "    </tr>\n",
              "    <tr>\n",
              "      <th>75%</th>\n",
              "      <td>2.490000e+05</td>\n",
              "      <td>13.880000</td>\n",
              "      <td>4.25000</td>\n",
              "      <td>1.122363</td>\n",
              "      <td>13.000000</td>\n",
              "      <td>168.000000</td>\n",
              "    </tr>\n",
              "    <tr>\n",
              "      <th>max</th>\n",
              "      <td>3.100000e+07</td>\n",
              "      <td>100.000000</td>\n",
              "      <td>25.16000</td>\n",
              "      <td>85.000000</td>\n",
              "      <td>1200.000000</td>\n",
              "      <td>3263.000000</td>\n",
              "    </tr>\n",
              "  </tbody>\n",
              "</table>\n",
              "</div>\n",
              "      <button class=\"colab-df-convert\" onclick=\"convertToInteractive('df-bc618949-8ec8-4490-9d2b-28789654e880')\"\n",
              "              title=\"Convert this dataframe to an interactive table.\"\n",
              "              style=\"display:none;\">\n",
              "        \n",
              "  <svg xmlns=\"http://www.w3.org/2000/svg\" height=\"24px\"viewBox=\"0 0 24 24\"\n",
              "       width=\"24px\">\n",
              "    <path d=\"M0 0h24v24H0V0z\" fill=\"none\"/>\n",
              "    <path d=\"M18.56 5.44l.94 2.06.94-2.06 2.06-.94-2.06-.94-.94-2.06-.94 2.06-2.06.94zm-11 1L8.5 8.5l.94-2.06 2.06-.94-2.06-.94L8.5 2.5l-.94 2.06-2.06.94zm10 10l.94 2.06.94-2.06 2.06-.94-2.06-.94-.94-2.06-.94 2.06-2.06.94z\"/><path d=\"M17.41 7.96l-1.37-1.37c-.4-.4-.92-.59-1.43-.59-.52 0-1.04.2-1.43.59L10.3 9.45l-7.72 7.72c-.78.78-.78 2.05 0 2.83L4 21.41c.39.39.9.59 1.41.59.51 0 1.02-.2 1.41-.59l7.78-7.78 2.81-2.81c.8-.78.8-2.07 0-2.86zM5.41 20L4 18.59l7.72-7.72 1.47 1.35L5.41 20z\"/>\n",
              "  </svg>\n",
              "      </button>\n",
              "      \n",
              "  <style>\n",
              "    .colab-df-container {\n",
              "      display:flex;\n",
              "      flex-wrap:wrap;\n",
              "      gap: 12px;\n",
              "    }\n",
              "\n",
              "    .colab-df-convert {\n",
              "      background-color: #E8F0FE;\n",
              "      border: none;\n",
              "      border-radius: 50%;\n",
              "      cursor: pointer;\n",
              "      display: none;\n",
              "      fill: #1967D2;\n",
              "      height: 32px;\n",
              "      padding: 0 0 0 0;\n",
              "      width: 32px;\n",
              "    }\n",
              "\n",
              "    .colab-df-convert:hover {\n",
              "      background-color: #E2EBFA;\n",
              "      box-shadow: 0px 1px 2px rgba(60, 64, 67, 0.3), 0px 1px 3px 1px rgba(60, 64, 67, 0.15);\n",
              "      fill: #174EA6;\n",
              "    }\n",
              "\n",
              "    [theme=dark] .colab-df-convert {\n",
              "      background-color: #3B4455;\n",
              "      fill: #D2E3FC;\n",
              "    }\n",
              "\n",
              "    [theme=dark] .colab-df-convert:hover {\n",
              "      background-color: #434B5C;\n",
              "      box-shadow: 0px 1px 3px 1px rgba(0, 0, 0, 0.15);\n",
              "      filter: drop-shadow(0px 1px 2px rgba(0, 0, 0, 0.3));\n",
              "      fill: #FFFFFF;\n",
              "    }\n",
              "  </style>\n",
              "\n",
              "      <script>\n",
              "        const buttonEl =\n",
              "          document.querySelector('#df-bc618949-8ec8-4490-9d2b-28789654e880 button.colab-df-convert');\n",
              "        buttonEl.style.display =\n",
              "          google.colab.kernel.accessAllowed ? 'block' : 'none';\n",
              "\n",
              "        async function convertToInteractive(key) {\n",
              "          const element = document.querySelector('#df-bc618949-8ec8-4490-9d2b-28789654e880');\n",
              "          const dataTable =\n",
              "            await google.colab.kernel.invokeFunction('convertToInteractive',\n",
              "                                                     [key], {});\n",
              "          if (!dataTable) return;\n",
              "\n",
              "          const docLinkHtml = 'Like what you see? Visit the ' +\n",
              "            '<a target=\"_blank\" href=https://colab.research.google.com/notebooks/data_table.ipynb>data table notebook</a>'\n",
              "            + ' to learn more about interactive tables.';\n",
              "          element.innerHTML = '';\n",
              "          dataTable['output_type'] = 'display_data';\n",
              "          await google.colab.output.renderOutput(dataTable, element);\n",
              "          const docLink = document.createElement('div');\n",
              "          docLink.innerHTML = docLinkHtml;\n",
              "          element.appendChild(docLink);\n",
              "        }\n",
              "      </script>\n",
              "    </div>\n",
              "  </div>\n",
              "  "
            ]
          },
          "metadata": {},
          "execution_count": 1403
        }
      ]
    },
    {
      "cell_type": "markdown",
      "source": [
        "#Plots"
      ],
      "metadata": {
        "id": "YIY8vwdz9sR_"
      }
    },
    {
      "cell_type": "code",
      "source": [
        "#In order to have a much more readable manufacturer (also because it is the main one):\n",
        "mask = boat_df.manufacturer == 'BÃ©nÃ©teau power boats' \n",
        "boat_df.loc[mask,'manufacturer'] = 'Beneteau'"
      ],
      "metadata": {
        "id": "8O95SdxX6DYn"
      },
      "execution_count": 1404,
      "outputs": []
    },
    {
      "cell_type": "code",
      "source": [
        "#Plot to have an overview of the manufacturers of the power boats in this dataframe\n",
        "colors = plt.get_cmap('Blues')(np.linspace(0.1, 0.9, 10))\n",
        "plt.figure(figsize = (10,8))\n",
        "plt.pie(boat_df.manufacturer.value_counts().head(10), labels = boat_df.manufacturer.value_counts().head(10).index, colors = colors, autopct = '%.1f%%', startangle = 335)\n",
        "plt.title('Main manufacturers', fontweight = \"bold\")\n",
        "plt.show()"
      ],
      "metadata": {
        "colab": {
          "base_uri": "https://localhost:8080/",
          "height": 482
        },
        "id": "nkMqxCOg-dAL",
        "outputId": "bba28515-abb5-4a99-a2d8-1959fe09b5fa"
      },
      "execution_count": 1405,
      "outputs": [
        {
          "output_type": "display_data",
          "data": {
            "text/plain": [
              "<Figure size 720x576 with 1 Axes>"
            ],
            "image/png": "[encoded data removed]"
          },
          "metadata": {}
        }
      ]
    },
    {
      "cell_type": "code",
      "source": [
        "#Horizontal bar chart where there are the mean prices of the first 9 (the same above) main manufacturers in comparison\n",
        "labels = boat_df.manufacturer.value_counts().head(10).index[1::] #to not consider 'unknown'\n",
        "data = np.array([boat_df[boat_df.loc[:, 'manufacturer'] == x].price.mean() for x in labels ])\n",
        "fig2, ax2 = plt.subplots(figsize=(10,5))\n",
        "plt.barh(labels, data, color = colors)\n",
        "plt.xlabel('Mean price')\n",
        "plt.ylabel('Manufacturer')\n",
        "plt.show()"
      ],
      "metadata": {
        "colab": {
          "base_uri": "https://localhost:8080/",
          "height": 334
        },
        "id": "g2lWBuHgknP_",
        "outputId": "880afbad-c628-4b9e-875f-ead00fd2c7db"
      },
      "execution_count": 1406,
      "outputs": [
        {
          "output_type": "display_data",
          "data": {
            "text/plain": [
              "<Figure size 720x360 with 1 Axes>"
            ],
            "image/png": "[encoded data removed]"
          },
          "metadata": {
            "needs_background": "light"
          }
        }
      ]
    },
    {
      "cell_type": "code",
      "source": [
        "#Sorted horizontal bar chart of above\n",
        "labels = boat_df.manufacturer.value_counts().head(10).index[1::]\n",
        "data = np.array([boat_df[boat_df.loc[:, 'manufacturer'] == x].price.mean() for x in labels ])\n",
        "df = pd.DataFrame(\n",
        "    dict(\n",
        "        labels = labels,\n",
        "        data = data\n",
        "    )\n",
        ")\n",
        "df_sorted = df.sort_values('data')\n",
        "fig2, ax2 = plt.subplots(figsize=(10,5))\n",
        "plt.barh('labels','data', data = df_sorted, color = colors)\n",
        "plt.title('Mean prices of the first nine main manufacturers in comparison', fontweight=\"bold\")\n",
        "plt.xlabel('Mean price')\n",
        "plt.ylabel('Manufacturer')\n",
        "plt.show()"
      ],
      "metadata": {
        "colab": {
          "base_uri": "https://localhost:8080/",
          "height": 350
        },
        "id": "JWYzb9vx1dtm",
        "outputId": "d2a155a5-f2bd-4976-8cef-f2dd49ef9d3c"
      },
      "execution_count": 1407,
      "outputs": [
        {
          "output_type": "display_data",
          "data": {
            "text/plain": [
              "<Figure size 720x360 with 1 Axes>"
            ],
            "image/png": "[encoded data removed]"
          },
          "metadata": {
            "needs_background": "light"
          }
        }
      ]
    },
    {
      "cell_type": "code",
      "source": [
        "boat_df.corr()"
      ],
      "metadata": {
        "colab": {
          "base_uri": "https://localhost:8080/",
          "height": 235
        },
        "id": "eBRkNvcdoQ2r",
        "outputId": "7f4376ab-1119-4975-d6d3-8e2abec31c22"
      },
      "execution_count": 1408,
      "outputs": [
        {
          "output_type": "execute_result",
          "data": {
            "text/plain": [
              "                                price    length     width     depth  \\\n",
              "price                        1.000000  0.566597  0.517411  0.066083   \n",
              "length                       0.566597  1.000000  0.870822  0.091349   \n",
              "width                        0.517411  0.870822  1.000000  0.084660   \n",
              "depth                        0.066083  0.091349  0.084660  1.000000   \n",
              "cert_number_of_people        0.153867  0.341027  0.298175  0.031377   \n",
              "number_of_views_last_7_days -0.005160 -0.131957 -0.154803  0.016390   \n",
              "\n",
              "                             cert_number_of_people  \\\n",
              "price                                     0.153867   \n",
              "length                                    0.341027   \n",
              "width                                     0.298175   \n",
              "depth                                     0.031377   \n",
              "cert_number_of_people                     1.000000   \n",
              "number_of_views_last_7_days              -0.046751   \n",
              "\n",
              "                             number_of_views_last_7_days  \n",
              "price                                          -0.005160  \n",
              "length                                         -0.131957  \n",
              "width                                          -0.154803  \n",
              "depth                                           0.016390  \n",
              "cert_number_of_people                          -0.046751  \n",
              "number_of_views_last_7_days                     1.000000  "
            ],
            "text/html": [
              "\n",
              "  <div id=\"df-4816bb0f-1f06-4aa9-9b58-fba2aba84345\">\n",
              "    <div class=\"colab-df-container\">\n",
              "      <div>\n",
              "<style scoped>\n",
              "    .dataframe tbody tr th:only-of-type {\n",
              "        vertical-align: middle;\n",
              "    }\n",
              "\n",
              "    .dataframe tbody tr th {\n",
              "        vertical-align: top;\n",
              "    }\n",
              "\n",
              "    .dataframe thead th {\n",
              "        text-align: right;\n",
              "    }\n",
              "</style>\n",
              "<table border=\"1\" class=\"dataframe\">\n",
              "  <thead>\n",
              "    <tr style=\"text-align: right;\">\n",
              "      <th></th>\n",
              "      <th>price</th>\n",
              "      <th>length</th>\n",
              "      <th>width</th>\n",
              "      <th>depth</th>\n",
              "      <th>cert_number_of_people</th>\n",
              "      <th>number_of_views_last_7_days</th>\n",
              "    </tr>\n",
              "  </thead>\n",
              "  <tbody>\n",
              "    <tr>\n",
              "      <th>price</th>\n",
              "      <td>1.000000</td>\n",
              "      <td>0.566597</td>\n",
              "      <td>0.517411</td>\n",
              "      <td>0.066083</td>\n",
              "      <td>0.153867</td>\n",
              "      <td>-0.005160</td>\n",
              "    </tr>\n",
              "    <tr>\n",
              "      <th>length</th>\n",
              "      <td>0.566597</td>\n",
              "      <td>1.000000</td>\n",
              "      <td>0.870822</td>\n",
              "      <td>0.091349</td>\n",
              "      <td>0.341027</td>\n",
              "      <td>-0.131957</td>\n",
              "    </tr>\n",
              "    <tr>\n",
              "      <th>width</th>\n",
              "      <td>0.517411</td>\n",
              "      <td>0.870822</td>\n",
              "      <td>1.000000</td>\n",
              "      <td>0.084660</td>\n",
              "      <td>0.298175</td>\n",
              "      <td>-0.154803</td>\n",
              "    </tr>\n",
              "    <tr>\n",
              "      <th>depth</th>\n",
              "      <td>0.066083</td>\n",
              "      <td>0.091349</td>\n",
              "      <td>0.084660</td>\n",
              "      <td>1.000000</td>\n",
              "      <td>0.031377</td>\n",
              "      <td>0.016390</td>\n",
              "    </tr>\n",
              "    <tr>\n",
              "      <th>cert_number_of_people</th>\n",
              "      <td>0.153867</td>\n",
              "      <td>0.341027</td>\n",
              "      <td>0.298175</td>\n",
              "      <td>0.031377</td>\n",
              "      <td>1.000000</td>\n",
              "      <td>-0.046751</td>\n",
              "    </tr>\n",
              "    <tr>\n",
              "      <th>number_of_views_last_7_days</th>\n",
              "      <td>-0.005160</td>\n",
              "      <td>-0.131957</td>\n",
              "      <td>-0.154803</td>\n",
              "      <td>0.016390</td>\n",
              "      <td>-0.046751</td>\n",
              "      <td>1.000000</td>\n",
              "    </tr>\n",
              "  </tbody>\n",
              "</table>\n",
              "</div>\n",
              "      <button class=\"colab-df-convert\" onclick=\"convertToInteractive('df-4816bb0f-1f06-4aa9-9b58-fba2aba84345')\"\n",
              "              title=\"Convert this dataframe to an interactive table.\"\n",
              "              style=\"display:none;\">\n",
              "        \n",
              "  <svg xmlns=\"http://www.w3.org/2000/svg\" height=\"24px\"viewBox=\"0 0 24 24\"\n",
              "       width=\"24px\">\n",
              "    <path d=\"M0 0h24v24H0V0z\" fill=\"none\"/>\n",
              "    <path d=\"M18.56 5.44l.94 2.06.94-2.06 2.06-.94-2.06-.94-.94-2.06-.94 2.06-2.06.94zm-11 1L8.5 8.5l.94-2.06 2.06-.94-2.06-.94L8.5 2.5l-.94 2.06-2.06.94zm10 10l.94 2.06.94-2.06 2.06-.94-2.06-.94-.94-2.06-.94 2.06-2.06.94z\"/><path d=\"M17.41 7.96l-1.37-1.37c-.4-.4-.92-.59-1.43-.59-.52 0-1.04.2-1.43.59L10.3 9.45l-7.72 7.72c-.78.78-.78 2.05 0 2.83L4 21.41c.39.39.9.59 1.41.59.51 0 1.02-.2 1.41-.59l7.78-7.78 2.81-2.81c.8-.78.8-2.07 0-2.86zM5.41 20L4 18.59l7.72-7.72 1.47 1.35L5.41 20z\"/>\n",
              "  </svg>\n",
              "      </button>\n",
              "      \n",
              "  <style>\n",
              "    .colab-df-container {\n",
              "      display:flex;\n",
              "      flex-wrap:wrap;\n",
              "      gap: 12px;\n",
              "    }\n",
              "\n",
              "    .colab-df-convert {\n",
              "      background-color: #E8F0FE;\n",
              "      border: none;\n",
              "      border-radius: 50%;\n",
              "      cursor: pointer;\n",
              "      display: none;\n",
              "      fill: #1967D2;\n",
              "      height: 32px;\n",
              "      padding: 0 0 0 0;\n",
              "      width: 32px;\n",
              "    }\n",
              "\n",
              "    .colab-df-convert:hover {\n",
              "      background-color: #E2EBFA;\n",
              "      box-shadow: 0px 1px 2px rgba(60, 64, 67, 0.3), 0px 1px 3px 1px rgba(60, 64, 67, 0.15);\n",
              "      fill: #174EA6;\n",
              "    }\n",
              "\n",
              "    [theme=dark] .colab-df-convert {\n",
              "      background-color: #3B4455;\n",
              "      fill: #D2E3FC;\n",
              "    }\n",
              "\n",
              "    [theme=dark] .colab-df-convert:hover {\n",
              "      background-color: #434B5C;\n",
              "      box-shadow: 0px 1px 3px 1px rgba(0, 0, 0, 0.15);\n",
              "      filter: drop-shadow(0px 1px 2px rgba(0, 0, 0, 0.3));\n",
              "      fill: #FFFFFF;\n",
              "    }\n",
              "  </style>\n",
              "\n",
              "      <script>\n",
              "        const buttonEl =\n",
              "          document.querySelector('#df-4816bb0f-1f06-4aa9-9b58-fba2aba84345 button.colab-df-convert');\n",
              "        buttonEl.style.display =\n",
              "          google.colab.kernel.accessAllowed ? 'block' : 'none';\n",
              "\n",
              "        async function convertToInteractive(key) {\n",
              "          const element = document.querySelector('#df-4816bb0f-1f06-4aa9-9b58-fba2aba84345');\n",
              "          const dataTable =\n",
              "            await google.colab.kernel.invokeFunction('convertToInteractive',\n",
              "                                                     [key], {});\n",
              "          if (!dataTable) return;\n",
              "\n",
              "          const docLinkHtml = 'Like what you see? Visit the ' +\n",
              "            '<a target=\"_blank\" href=https://colab.research.google.com/notebooks/data_table.ipynb>data table notebook</a>'\n",
              "            + ' to learn more about interactive tables.';\n",
              "          element.innerHTML = '';\n",
              "          dataTable['output_type'] = 'display_data';\n",
              "          await google.colab.output.renderOutput(dataTable, element);\n",
              "          const docLink = document.createElement('div');\n",
              "          docLink.innerHTML = docLinkHtml;\n",
              "          element.appendChild(docLink);\n",
              "        }\n",
              "      </script>\n",
              "    </div>\n",
              "  </div>\n",
              "  "
            ]
          },
          "metadata": {},
          "execution_count": 1408
        }
      ]
    },
    {
      "cell_type": "code",
      "source": [
        "import seaborn as sb"
      ],
      "metadata": {
        "id": "VwBcVwPDpP2B"
      },
      "execution_count": 1409,
      "outputs": []
    },
    {
      "cell_type": "code",
      "source": [
        "#Correlation matrix\n",
        "plt.figure(figsize=(8,6))\n",
        "sb.heatmap(boat_df.corr(), annot=True)"
      ],
      "metadata": {
        "colab": {
          "base_uri": "https://localhost:8080/",
          "height": 535
        },
        "id": "UPpjlb2nol6h",
        "outputId": "2caf8d6b-d8ec-4165-d498-0bd59e58abb1"
      },
      "execution_count": 1410,
      "outputs": [
        {
          "output_type": "execute_result",
          "data": {
            "text/plain": [
              "<matplotlib.axes._subplots.AxesSubplot at 0x7f0f06f1ca90>"
            ]
          },
          "metadata": {},
          "execution_count": 1410
        },
        {
          "output_type": "display_data",
          "data": {
            "text/plain": [
              "<Figure size 576x432 with 2 Axes>"
            ],
            "image/png": "[encoded data removed]"
          },
          "metadata": {
            "needs_background": "light"
          }
        }
      ]
    },
    {
      "cell_type": "code",
      "source": [
        "#Length - Price\n",
        "x = boat_df.length\n",
        "y = boat_df.price\n",
        "fig4 = plt.figure(figsize = (6,8)) \n",
        "plt.title('Correlation between Length and Price')\n",
        "plt.scatter(x,y, s = 6, facecolors='none', edgecolors='b')\n",
        "plt.xlabel('Length')\n",
        "plt.ylabel('Price')\n",
        "plt.show() #the resul is too high and too \"far\""
      ],
      "metadata": {
        "colab": {
          "base_uri": "https://localhost:8080/",
          "height": 513
        },
        "id": "ygBfU-_9b-z-",
        "outputId": "5f7654f0-2d64-4077-a5d8-9e11fdb9f62f"
      },
      "execution_count": 1411,
      "outputs": [
        {
          "output_type": "display_data",
          "data": {
            "text/plain": [
              "<Figure size 432x576 with 1 Axes>"
            ],
            "image/png": "[encoded data removed]"
          },
          "metadata": {
            "needs_background": "light"
          }
        }
      ]
    },
    {
      "cell_type": "code",
      "source": [
        "boat_df[boat_df.loc[:, 'length'] == boat_df.length.max()] #check of the reason why some points seem to be so closed to 0: they are pretty small rather than 1e7"
      ],
      "metadata": {
        "colab": {
          "base_uri": "https://localhost:8080/",
          "height": 161
        },
        "id": "KsOKuabZm6_F",
        "outputId": "b477d836-f86e-4fc1-f7e3-282d7a3ec938"
      },
      "execution_count": 1412,
      "outputs": [
        {
          "output_type": "execute_result",
          "data": {
            "text/plain": [
              "        price     category   boat_type manufacturer                 model  \\\n",
              "9991  14500.0  Power Boats  Mega Yacht      Unknown  Otterkruiser 1000 AK   \n",
              "\n",
              "     condition  length  width  depth  cert_number_of_people   engine  \\\n",
              "9991   unknown   100.0    3.2    0.9                  100.0  unknown   \n",
              "\n",
              "     fuel_type     location  number_of_views_last_7_days  \n",
              "9991    Diesel  Netherlands                        289.0  "
            ],
            "text/html": [
              "\n",
              "  <div id=\"df-0e317303-e353-439d-b878-e5cdee06d59a\">\n",
              "    <div class=\"colab-df-container\">\n",
              "      <div>\n",
              "<style scoped>\n",
              "    .dataframe tbody tr th:only-of-type {\n",
              "        vertical-align: middle;\n",
              "    }\n",
              "\n",
              "    .dataframe tbody tr th {\n",
              "        vertical-align: top;\n",
              "    }\n",
              "\n",
              "    .dataframe thead th {\n",
              "        text-align: right;\n",
              "    }\n",
              "</style>\n",
              "<table border=\"1\" class=\"dataframe\">\n",
              "  <thead>\n",
              "    <tr style=\"text-align: right;\">\n",
              "      <th></th>\n",
              "      <th>price</th>\n",
              "      <th>category</th>\n",
              "      <th>boat_type</th>\n",
              "      <th>manufacturer</th>\n",
              "      <th>model</th>\n",
              "      <th>condition</th>\n",
              "      <th>length</th>\n",
              "      <th>width</th>\n",
              "      <th>depth</th>\n",
              "      <th>cert_number_of_people</th>\n",
              "      <th>engine</th>\n",
              "      <th>fuel_type</th>\n",
              "      <th>location</th>\n",
              "      <th>number_of_views_last_7_days</th>\n",
              "    </tr>\n",
              "  </thead>\n",
              "  <tbody>\n",
              "    <tr>\n",
              "      <th>9991</th>\n",
              "      <td>14500.0</td>\n",
              "      <td>Power Boats</td>\n",
              "      <td>Mega Yacht</td>\n",
              "      <td>Unknown</td>\n",
              "      <td>Otterkruiser 1000 AK</td>\n",
              "      <td>unknown</td>\n",
              "      <td>100.0</td>\n",
              "      <td>3.2</td>\n",
              "      <td>0.9</td>\n",
              "      <td>100.0</td>\n",
              "      <td>unknown</td>\n",
              "      <td>Diesel</td>\n",
              "      <td>Netherlands</td>\n",
              "      <td>289.0</td>\n",
              "    </tr>\n",
              "  </tbody>\n",
              "</table>\n",
              "</div>\n",
              "      <button class=\"colab-df-convert\" onclick=\"convertToInteractive('df-0e317303-e353-439d-b878-e5cdee06d59a')\"\n",
              "              title=\"Convert this dataframe to an interactive table.\"\n",
              "              style=\"display:none;\">\n",
              "        \n",
              "  <svg xmlns=\"http://www.w3.org/2000/svg\" height=\"24px\"viewBox=\"0 0 24 24\"\n",
              "       width=\"24px\">\n",
              "    <path d=\"M0 0h24v24H0V0z\" fill=\"none\"/>\n",
              "    <path d=\"M18.56 5.44l.94 2.06.94-2.06 2.06-.94-2.06-.94-.94-2.06-.94 2.06-2.06.94zm-11 1L8.5 8.5l.94-2.06 2.06-.94-2.06-.94L8.5 2.5l-.94 2.06-2.06.94zm10 10l.94 2.06.94-2.06 2.06-.94-2.06-.94-.94-2.06-.94 2.06-2.06.94z\"/><path d=\"M17.41 7.96l-1.37-1.37c-.4-.4-.92-.59-1.43-.59-.52 0-1.04.2-1.43.59L10.3 9.45l-7.72 7.72c-.78.78-.78 2.05 0 2.83L4 21.41c.39.39.9.59 1.41.59.51 0 1.02-.2 1.41-.59l7.78-7.78 2.81-2.81c.8-.78.8-2.07 0-2.86zM5.41 20L4 18.59l7.72-7.72 1.47 1.35L5.41 20z\"/>\n",
              "  </svg>\n",
              "      </button>\n",
              "      \n",
              "  <style>\n",
              "    .colab-df-container {\n",
              "      display:flex;\n",
              "      flex-wrap:wrap;\n",
              "      gap: 12px;\n",
              "    }\n",
              "\n",
              "    .colab-df-convert {\n",
              "      background-color: #E8F0FE;\n",
              "      border: none;\n",
              "      border-radius: 50%;\n",
              "      cursor: pointer;\n",
              "      display: none;\n",
              "      fill: #1967D2;\n",
              "      height: 32px;\n",
              "      padding: 0 0 0 0;\n",
              "      width: 32px;\n",
              "    }\n",
              "\n",
              "    .colab-df-convert:hover {\n",
              "      background-color: #E2EBFA;\n",
              "      box-shadow: 0px 1px 2px rgba(60, 64, 67, 0.3), 0px 1px 3px 1px rgba(60, 64, 67, 0.15);\n",
              "      fill: #174EA6;\n",
              "    }\n",
              "\n",
              "    [theme=dark] .colab-df-convert {\n",
              "      background-color: #3B4455;\n",
              "      fill: #D2E3FC;\n",
              "    }\n",
              "\n",
              "    [theme=dark] .colab-df-convert:hover {\n",
              "      background-color: #434B5C;\n",
              "      box-shadow: 0px 1px 3px 1px rgba(0, 0, 0, 0.15);\n",
              "      filter: drop-shadow(0px 1px 2px rgba(0, 0, 0, 0.3));\n",
              "      fill: #FFFFFF;\n",
              "    }\n",
              "  </style>\n",
              "\n",
              "      <script>\n",
              "        const buttonEl =\n",
              "          document.querySelector('#df-0e317303-e353-439d-b878-e5cdee06d59a button.colab-df-convert');\n",
              "        buttonEl.style.display =\n",
              "          google.colab.kernel.accessAllowed ? 'block' : 'none';\n",
              "\n",
              "        async function convertToInteractive(key) {\n",
              "          const element = document.querySelector('#df-0e317303-e353-439d-b878-e5cdee06d59a');\n",
              "          const dataTable =\n",
              "            await google.colab.kernel.invokeFunction('convertToInteractive',\n",
              "                                                     [key], {});\n",
              "          if (!dataTable) return;\n",
              "\n",
              "          const docLinkHtml = 'Like what you see? Visit the ' +\n",
              "            '<a target=\"_blank\" href=https://colab.research.google.com/notebooks/data_table.ipynb>data table notebook</a>'\n",
              "            + ' to learn more about interactive tables.';\n",
              "          element.innerHTML = '';\n",
              "          dataTable['output_type'] = 'display_data';\n",
              "          await google.colab.output.renderOutput(dataTable, element);\n",
              "          const docLink = document.createElement('div');\n",
              "          docLink.innerHTML = docLinkHtml;\n",
              "          element.appendChild(docLink);\n",
              "        }\n",
              "      </script>\n",
              "    </div>\n",
              "  </div>\n",
              "  "
            ]
          },
          "metadata": {},
          "execution_count": 1412
        }
      ]
    },
    {
      "cell_type": "code",
      "source": [
        "fig5, (ax5_1, ax5_2) = plt.subplots(2, 1, sharex=True, figsize=(10,8))\n",
        "fig5.subplots_adjust(hspace=0.2)  # adjust space between axes\n",
        "\n",
        "fig5.suptitle('Correlation between Length and Price')\n",
        "ax5_2.set_xlabel('Length')\n",
        "plt.ylabel('Price')\n",
        "#scatter plots in the two halves\n",
        "ax5_1.scatter(x,y, s=6,  facecolors='none', edgecolors='b')\n",
        "ax5_2.scatter(x,y, s = 6,  facecolors='none', edgecolors='b')\n",
        "\n",
        "# zoom-in the scatter plot due to the limit of the view to different portions of the data\n",
        "ax5_1.set_ylim(1.4*1e7,3.25*1e7)  # outliers only\n",
        "ax5_2.set_ylim(0,1.3*1e7)  # most of the data\n",
        "\n",
        "# hide the spines between ax and ax2\n",
        "ax5_1.spines['bottom'].set_visible(False)\n",
        "ax5_2.spines['top'].set_visible(False)\n",
        "ax5_1.xaxis.tick_top()\n",
        "ax5_1.tick_params(labeltop=False)  # don't put tick labels at the top\n",
        "ax5_2.xaxis.tick_bottom()\n",
        "\n",
        "\n",
        "d = .15  # proportion of vertical to horizontal extent of the slanted line\n",
        "kwargs = dict(marker=[(-1, -d), (1, d)], markersize=12, linestyle=\"none\", color='k', mec='k', mew=1, clip_on=False)\n",
        "ax5_1.plot([0, 1], [0, 0], transform=ax5_1.transAxes, **kwargs)\n",
        "ax5_2.plot([0, 1], [1, 1], transform=ax5_2.transAxes, **kwargs)\n",
        "plt.show()"
      ],
      "metadata": {
        "colab": {
          "base_uri": "https://localhost:8080/",
          "height": 554
        },
        "id": "ajQ8QW91xKv1",
        "outputId": "42588a55-9c1b-4f95-df22-602513b0d949"
      },
      "execution_count": 1413,
      "outputs": [
        {
          "output_type": "display_data",
          "data": {
            "text/plain": [
              "<Figure size 720x576 with 2 Axes>"
            ],
            "image/png": "[encoded data removed]"
          },
          "metadata": {
            "needs_background": "light"
          }
        }
      ]
    },
    {
      "cell_type": "code",
      "source": [
        "#Width - Price\n",
        "x = boat_df.width\n",
        "y = boat_df.price\n",
        "fig6 = plt.figure()\n",
        "plt.scatter(x,y, s = 6,  facecolors='none', edgecolors='b')\n",
        "plt.title('Correlation between Width and Price')\n",
        "plt.xlabel('Width')\n",
        "plt.ylabel('Price')\n",
        "plt.show()"
      ],
      "metadata": {
        "colab": {
          "base_uri": "https://localhost:8080/",
          "height": 295
        },
        "id": "dARy0PJT5pOV",
        "outputId": "9c54ddf1-3fc9-4eb8-a06a-f6adf1286e5e"
      },
      "execution_count": 1414,
      "outputs": [
        {
          "output_type": "display_data",
          "data": {
            "text/plain": [
              "<Figure size 432x288 with 1 Axes>"
            ],
            "image/png": "[encoded data removed]"
          },
          "metadata": {
            "needs_background": "light"
          }
        }
      ]
    },
    {
      "cell_type": "code",
      "source": [
        "#Length - Width\n",
        "x = boat_df.length\n",
        "y = boat_df.width\n",
        "fig7 = plt.figure(figsize = (8,6))\n",
        "plt.scatter(x,y, s = 6,  facecolors='none', edgecolors='b')\n",
        "plt.title('Correlation between Length and Width')\n",
        "plt.xlabel('Length')\n",
        "plt.ylabel('Width')\n",
        "plt.show()"
      ],
      "metadata": {
        "id": "a8rAZPa9O87T",
        "colab": {
          "base_uri": "https://localhost:8080/",
          "height": 404
        },
        "outputId": "b875975b-ed04-4400-80a5-813edb7d77fd"
      },
      "execution_count": 1415,
      "outputs": [
        {
          "output_type": "display_data",
          "data": {
            "text/plain": [
              "<Figure size 576x432 with 1 Axes>"
            ],
            "image/png": "[encoded data removed]"
          },
          "metadata": {
            "needs_background": "light"
          }
        }
      ]
    },
    {
      "cell_type": "code",
      "source": [
        "#Length - Depth\n",
        "x = boat_df.length\n",
        "y = boat_df.depth\n",
        "fig8 = plt.figure(figsize= (8,6))\n",
        "plt.scatter(x,y, s = 6,  facecolors='none', edgecolors='b')\n",
        "plt.title('Correlation between Length and Depth')\n",
        "plt.xlabel('Length')\n",
        "plt.ylabel('Depth')\n",
        "plt.show()"
      ],
      "metadata": {
        "colab": {
          "base_uri": "https://localhost:8080/",
          "height": 404
        },
        "id": "oxed4BiBzbnC",
        "outputId": "79b37c8d-4072-43a7-fb28-778bcdc2d50d"
      },
      "execution_count": 1416,
      "outputs": [
        {
          "output_type": "display_data",
          "data": {
            "text/plain": [
              "<Figure size 576x432 with 1 Axes>"
            ],
            "image/png": "[encoded data removed]"
          },
          "metadata": {
            "needs_background": "light"
          }
        }
      ]
    },
    {
      "cell_type": "code",
      "source": [
        "#Width - Number of views last 7 days\n",
        "x = boat_df.width\n",
        "y = boat_df.number_of_views_last_7_days\n",
        "fig9 = plt.figure()\n",
        "plt.scatter(x,y, s = 6,  facecolors='none', edgecolors='b')\n",
        "plt.title('Correlation between Width and Number of views last 7 days')\n",
        "plt.xlabel('Width')\n",
        "plt.ylabel('Number of views last 7 days')\n",
        "plt.show()"
      ],
      "metadata": {
        "colab": {
          "base_uri": "https://localhost:8080/",
          "height": 295
        },
        "id": "h4q8LcBo50nD",
        "outputId": "dfc8a333-c080-43f5-9c4d-ce400781a6b2"
      },
      "execution_count": 1417,
      "outputs": [
        {
          "output_type": "display_data",
          "data": {
            "text/plain": [
              "<Figure size 432x288 with 1 Axes>"
            ],
            "image/png": "[encoded data removed]"
          },
          "metadata": {
            "needs_background": "light"
          }
        }
      ]
    },
    {
      "cell_type": "code",
      "source": [
        "#Length - Number of views last 7 days\n",
        "x = boat_df.length\n",
        "y = boat_df.number_of_views_last_7_days\n",
        "fig8 = plt.figure(figsize = (8,6))\n",
        "plt.scatter(x,y, s = 6,  facecolors='none', edgecolors='b')\n",
        "plt.title('Correlation between Length and Number of views last 7 days')\n",
        "plt.xlabel('Length')\n",
        "plt.ylabel('Number of views last 7 days')\n",
        "plt.show()"
      ],
      "metadata": {
        "colab": {
          "base_uri": "https://localhost:8080/",
          "height": 404
        },
        "id": "ZJpmCUAj5kdV",
        "outputId": "c2960088-104f-48c9-c022-3ae5f66f29e4"
      },
      "execution_count": 1418,
      "outputs": [
        {
          "output_type": "display_data",
          "data": {
            "text/plain": [
              "<Figure size 576x432 with 1 Axes>"
            ],
            "image/png": "[encoded data removed]"
          },
          "metadata": {
            "needs_background": "light"
          }
        }
      ]
    },
    {
      "cell_type": "code",
      "source": [
        "#Number of views last 7 days - Price\n",
        "x = boat_df.number_of_views_last_7_days\n",
        "y = boat_df.price\n",
        "fig9 = plt.figure()\n",
        "plt.scatter(x,y, s = 6,  facecolors='none', edgecolors='b')\n",
        "plt.title('Correlation between Number of views last 7 days and Price')\n",
        "plt.xlabel('Number of views last 7 days')\n",
        "plt.ylabel('Price')\n",
        "plt.show()"
      ],
      "metadata": {
        "colab": {
          "base_uri": "https://localhost:8080/",
          "height": 295
        },
        "id": "NaYVsOW_6_9S",
        "outputId": "8c82ca33-38df-44e9-db9e-ff85ea9dbbbc"
      },
      "execution_count": 1419,
      "outputs": [
        {
          "output_type": "display_data",
          "data": {
            "text/plain": [
              "<Figure size 432x288 with 1 Axes>"
            ],
            "image/png": "[encoded data removed]"
          },
          "metadata": {
            "needs_background": "light"
          }
        }
      ]
    },
    {
      "cell_type": "code",
      "source": [
        "#Number of views last 7 days - Length\n",
        "x = boat_df.number_of_views_last_7_days\n",
        "y = boat_df.length\n",
        "fig10 = plt.figure()\n",
        "plt.scatter(x,y, s = 6,  facecolors='none', edgecolors='b')\n",
        "plt.title('Correlation between Number of views last 7 days and Length')\n",
        "plt.xlabel('Number of views last 7 days')\n",
        "plt.ylabel('Length')\n",
        "plt.show()"
      ],
      "metadata": {
        "colab": {
          "base_uri": "https://localhost:8080/",
          "height": 295
        },
        "id": "qe-cq0G7Vfbq",
        "outputId": "a8b9c5d2-84d8-4273-c5c0-626f312e3dd9"
      },
      "execution_count": 1420,
      "outputs": [
        {
          "output_type": "display_data",
          "data": {
            "text/plain": [
              "<Figure size 432x288 with 1 Axes>"
            ],
            "image/png": "[encoded data removed]"
          },
          "metadata": {
            "needs_background": "light"
          }
        }
      ]
    },
    {
      "cell_type": "code",
      "source": [
        "#Box plot representing the distribution of prices according to manufacturers\n",
        "labels = boat_df.manufacturer.value_counts().head(10).index[1::]\n",
        "data_boxplot = np.array([boat_df[boat_df.loc[:, 'manufacturer'] == x].price for x in labels ], dtype = object)\n",
        "\n",
        "fig, ax = plt.subplots(figsize=(10,8))\n",
        "ax.boxplot(data_boxplot)\n",
        "ax.set_title(\"Distribution of prices according to manufacturers\")\n",
        "ax.set_xticklabels( labels , rotation = 45)\n",
        "ax.set_xlabel(\"Manufacturer\")\n",
        "ax.set_ylabel(\"Price\")\n",
        "plt.show()"
      ],
      "metadata": {
        "colab": {
          "base_uri": "https://localhost:8080/",
          "height": 592
        },
        "id": "IOKxl80y5o-A",
        "outputId": "55207a20-b535-4468-dbd4-8e494fe22ac5"
      },
      "execution_count": 1421,
      "outputs": [
        {
          "output_type": "display_data",
          "data": {
            "text/plain": [
              "<Figure size 720x576 with 1 Axes>"
            ],
            "image/png": "[encoded data removed]"
          },
          "metadata": {
            "needs_background": "light"
          }
        }
      ]
    },
    {
      "cell_type": "code",
      "source": [
        "boat_df.engine.value_counts()[1:5] #the first is 'unknown'"
      ],
      "metadata": {
        "colab": {
          "base_uri": "https://localhost:8080/"
        },
        "id": "EYHNadvEMyFD",
        "outputId": "2d24d498-d1e8-44c2-d694-9ad6233b8ed7"
      },
      "execution_count": 1422,
      "outputs": [
        {
          "output_type": "execute_result",
          "data": {
            "text/plain": [
              "volvo_penta    617\n",
              "volvo          374\n",
              "suzuki         300\n",
              "man            280\n",
              "Name: engine, dtype: int64"
            ]
          },
          "metadata": {},
          "execution_count": 1422
        }
      ]
    },
    {
      "cell_type": "code",
      "source": [
        "#Mosaic plot for 4 most frequent engines\n",
        "from statsmodels.graphics.mosaicplot import mosaic\n",
        "plt.figure(figsize = (10,10))\n",
        "mosaic(boat_df.engine.value_counts()[1:5],  title='Most frequent engines')\n",
        "plt.show()"
      ],
      "metadata": {
        "colab": {
          "base_uri": "https://localhost:8080/",
          "height": 299
        },
        "id": "TPztg2gGC5B-",
        "outputId": "902b8fef-cdb1-4cd6-d8ef-07d5cdc22dee"
      },
      "execution_count": 1423,
      "outputs": [
        {
          "output_type": "display_data",
          "data": {
            "text/plain": [
              "<Figure size 720x720 with 0 Axes>"
            ]
          },
          "metadata": {}
        },
        {
          "output_type": "display_data",
          "data": {
            "text/plain": [
              "<Figure size 432x288 with 3 Axes>"
            ],
            "image/png": "[encoded data removed]"
          },
          "metadata": {
            "needs_background": "light"
          }
        }
      ]
    },
    {
      "cell_type": "code",
      "source": [
        "#Mosaic plot for 10 most frequent locations\n",
        "plt.figure(figsize = (10,10))\n",
        "data_mosaic = boat_df.location.value_counts().head(10)\n",
        "labelizer = lambda k: ''\n",
        "mosaic(data_mosaic, gap = 0.025, title='Most frequent locations', label_rotation = 80, labelizer = labelizer)\n",
        "plt.show()"
      ],
      "metadata": {
        "colab": {
          "base_uri": "https://localhost:8080/",
          "height": 350
        },
        "id": "wO_yrGS8S49O",
        "outputId": "19e1bc2e-2f26-44f3-853c-a2aa4b81af66"
      },
      "execution_count": 1424,
      "outputs": [
        {
          "output_type": "display_data",
          "data": {
            "text/plain": [
              "<Figure size 720x720 with 0 Axes>"
            ]
          },
          "metadata": {}
        },
        {
          "output_type": "display_data",
          "data": {
            "text/plain": [
              "<Figure size 432x288 with 3 Axes>"
            ],
            "image/png": "[encoded data removed]"
          },
          "metadata": {
            "needs_background": "light"
          }
        }
      ]
    },
    {
      "cell_type": "code",
      "source": [
        "#Seen together\n",
        "fig_1 = plt.figure(figsize=(10,4))\n",
        "ax_1 = fig_1.add_subplot(1,2,1) \n",
        "ax_2 = fig_1.add_subplot(1,2,2) \n",
        "mosaic(boat_df.engine.value_counts()[1:5],  title='Most frequent engines', labelizer = labelizer, ax = ax_1)\n",
        "mosaic(data_mosaic, gap = 0.025, title='Most frequent locations', label_rotation = 80, labelizer = labelizer, ax = ax_2)\n",
        "plt.show()"
      ],
      "metadata": {
        "colab": {
          "base_uri": "https://localhost:8080/",
          "height": 333
        },
        "id": "jeo_2_ovLXcf",
        "outputId": "e3e0cc30-2676-4b49-b29b-880a0935bbfb"
      },
      "execution_count": 1425,
      "outputs": [
        {
          "output_type": "display_data",
          "data": {
            "text/plain": [
              "<Figure size 720x288 with 6 Axes>"
            ],
            "image/png": "[encoded data removed]"
          },
          "metadata": {
            "needs_background": "light"
          }
        }
      ]
    },
    {
      "cell_type": "code",
      "source": [
        "from sklearn.model_selection import train_test_split\n",
        "from sklearn.ensemble import RandomForestClassifier \n",
        "from sklearn.metrics import accuracy_score\n",
        "from sklearn.model_selection import KFold"
      ],
      "metadata": {
        "id": "4Gxlq6VwaMuy"
      },
      "execution_count": 1426,
      "outputs": []
    },
    {
      "cell_type": "code",
      "source": [
        "#The condition adjectives can be turned to numbers and can be grouped into three wider classes - unknown, good, bad - through feature engineering\n",
        "replace_dict = {\n",
        "    'as new' : 1,\n",
        "    'new': 1,\n",
        "    'very good': 1,\n",
        "    'well-groomed': 1,\n",
        "    'good': 1,\n",
        "    'used': 0,\n",
        "    'to be done up': 0,\n",
        "    'defect': 0,\n",
        "    'needs a reconditioning': 0,\n",
        "    'for tinkers': 0,\n",
        "    'unknown': 0\n",
        "}\n",
        "boat_df.condition.replace(replace_dict, inplace = True)"
      ],
      "metadata": {
        "id": "e4NGG8BlIUAu"
      },
      "execution_count": 1427,
      "outputs": []
    },
    {
      "cell_type": "code",
      "source": [
        "boat_df.condition.unique()"
      ],
      "metadata": {
        "colab": {
          "base_uri": "https://localhost:8080/"
        },
        "id": "VGQ3cGqMz2kz",
        "outputId": "0305fe88-3259-4e99-9ae0-b3f0f2b4dd49"
      },
      "execution_count": 1428,
      "outputs": [
        {
          "output_type": "execute_result",
          "data": {
            "text/plain": [
              "array([1, 0])"
            ]
          },
          "metadata": {},
          "execution_count": 1428
        }
      ]
    },
    {
      "cell_type": "code",
      "source": [
        "boat_df.corr()"
      ],
      "metadata": {
        "colab": {
          "base_uri": "https://localhost:8080/",
          "height": 266
        },
        "id": "IOvbArTj3sgi",
        "outputId": "4721e221-c06e-4afd-e66c-6141ff738d96"
      },
      "execution_count": 1429,
      "outputs": [
        {
          "output_type": "execute_result",
          "data": {
            "text/plain": [
              "                                price  condition    length     width  \\\n",
              "price                        1.000000  -0.072027  0.566597  0.517411   \n",
              "condition                   -0.072027   1.000000 -0.218925 -0.234791   \n",
              "length                       0.566597  -0.218925  1.000000  0.870822   \n",
              "width                        0.517411  -0.234791  0.870822  1.000000   \n",
              "depth                        0.066083   0.014322  0.091349  0.084660   \n",
              "cert_number_of_people        0.153867  -0.083693  0.341027  0.298175   \n",
              "number_of_views_last_7_days -0.005160   0.392573 -0.131957 -0.154803   \n",
              "\n",
              "                                depth  cert_number_of_people  \\\n",
              "price                        0.066083               0.153867   \n",
              "condition                    0.014322              -0.083693   \n",
              "length                       0.091349               0.341027   \n",
              "width                        0.084660               0.298175   \n",
              "depth                        1.000000               0.031377   \n",
              "cert_number_of_people        0.031377               1.000000   \n",
              "number_of_views_last_7_days  0.016390              -0.046751   \n",
              "\n",
              "                             number_of_views_last_7_days  \n",
              "price                                          -0.005160  \n",
              "condition                                       0.392573  \n",
              "length                                         -0.131957  \n",
              "width                                          -0.154803  \n",
              "depth                                           0.016390  \n",
              "cert_number_of_people                          -0.046751  \n",
              "number_of_views_last_7_days                     1.000000  "
            ],
            "text/html": [
              "\n",
              "  <div id=\"df-1ab4c3f4-3dab-4949-81d5-a974eb5d086c\">\n",
              "    <div class=\"colab-df-container\">\n",
              "      <div>\n",
              "<style scoped>\n",
              "    .dataframe tbody tr th:only-of-type {\n",
              "        vertical-align: middle;\n",
              "    }\n",
              "\n",
              "    .dataframe tbody tr th {\n",
              "        vertical-align: top;\n",
              "    }\n",
              "\n",
              "    .dataframe thead th {\n",
              "        text-align: right;\n",
              "    }\n",
              "</style>\n",
              "<table border=\"1\" class=\"dataframe\">\n",
              "  <thead>\n",
              "    <tr style=\"text-align: right;\">\n",
              "      <th></th>\n",
              "      <th>price</th>\n",
              "      <th>condition</th>\n",
              "      <th>length</th>\n",
              "      <th>width</th>\n",
              "      <th>depth</th>\n",
              "      <th>cert_number_of_people</th>\n",
              "      <th>number_of_views_last_7_days</th>\n",
              "    </tr>\n",
              "  </thead>\n",
              "  <tbody>\n",
              "    <tr>\n",
              "      <th>price</th>\n",
              "      <td>1.000000</td>\n",
              "      <td>-0.072027</td>\n",
              "      <td>0.566597</td>\n",
              "      <td>0.517411</td>\n",
              "      <td>0.066083</td>\n",
              "      <td>0.153867</td>\n",
              "      <td>-0.005160</td>\n",
              "    </tr>\n",
              "    <tr>\n",
              "      <th>condition</th>\n",
              "      <td>-0.072027</td>\n",
              "      <td>1.000000</td>\n",
              "      <td>-0.218925</td>\n",
              "      <td>-0.234791</td>\n",
              "      <td>0.014322</td>\n",
              "      <td>-0.083693</td>\n",
              "      <td>0.392573</td>\n",
              "    </tr>\n",
              "    <tr>\n",
              "      <th>length</th>\n",
              "      <td>0.566597</td>\n",
              "      <td>-0.218925</td>\n",
              "      <td>1.000000</td>\n",
              "      <td>0.870822</td>\n",
              "      <td>0.091349</td>\n",
              "      <td>0.341027</td>\n",
              "      <td>-0.131957</td>\n",
              "    </tr>\n",
              "    <tr>\n",
              "      <th>width</th>\n",
              "      <td>0.517411</td>\n",
              "      <td>-0.234791</td>\n",
              "      <td>0.870822</td>\n",
              "      <td>1.000000</td>\n",
              "      <td>0.084660</td>\n",
              "      <td>0.298175</td>\n",
              "      <td>-0.154803</td>\n",
              "    </tr>\n",
              "    <tr>\n",
              "      <th>depth</th>\n",
              "      <td>0.066083</td>\n",
              "      <td>0.014322</td>\n",
              "      <td>0.091349</td>\n",
              "      <td>0.084660</td>\n",
              "      <td>1.000000</td>\n",
              "      <td>0.031377</td>\n",
              "      <td>0.016390</td>\n",
              "    </tr>\n",
              "    <tr>\n",
              "      <th>cert_number_of_people</th>\n",
              "      <td>0.153867</td>\n",
              "      <td>-0.083693</td>\n",
              "      <td>0.341027</td>\n",
              "      <td>0.298175</td>\n",
              "      <td>0.031377</td>\n",
              "      <td>1.000000</td>\n",
              "      <td>-0.046751</td>\n",
              "    </tr>\n",
              "    <tr>\n",
              "      <th>number_of_views_last_7_days</th>\n",
              "      <td>-0.005160</td>\n",
              "      <td>0.392573</td>\n",
              "      <td>-0.131957</td>\n",
              "      <td>-0.154803</td>\n",
              "      <td>0.016390</td>\n",
              "      <td>-0.046751</td>\n",
              "      <td>1.000000</td>\n",
              "    </tr>\n",
              "  </tbody>\n",
              "</table>\n",
              "</div>\n",
              "      <button class=\"colab-df-convert\" onclick=\"convertToInteractive('df-1ab4c3f4-3dab-4949-81d5-a974eb5d086c')\"\n",
              "              title=\"Convert this dataframe to an interactive table.\"\n",
              "              style=\"display:none;\">\n",
              "        \n",
              "  <svg xmlns=\"http://www.w3.org/2000/svg\" height=\"24px\"viewBox=\"0 0 24 24\"\n",
              "       width=\"24px\">\n",
              "    <path d=\"M0 0h24v24H0V0z\" fill=\"none\"/>\n",
              "    <path d=\"M18.56 5.44l.94 2.06.94-2.06 2.06-.94-2.06-.94-.94-2.06-.94 2.06-2.06.94zm-11 1L8.5 8.5l.94-2.06 2.06-.94-2.06-.94L8.5 2.5l-.94 2.06-2.06.94zm10 10l.94 2.06.94-2.06 2.06-.94-2.06-.94-.94-2.06-.94 2.06-2.06.94z\"/><path d=\"M17.41 7.96l-1.37-1.37c-.4-.4-.92-.59-1.43-.59-.52 0-1.04.2-1.43.59L10.3 9.45l-7.72 7.72c-.78.78-.78 2.05 0 2.83L4 21.41c.39.39.9.59 1.41.59.51 0 1.02-.2 1.41-.59l7.78-7.78 2.81-2.81c.8-.78.8-2.07 0-2.86zM5.41 20L4 18.59l7.72-7.72 1.47 1.35L5.41 20z\"/>\n",
              "  </svg>\n",
              "      </button>\n",
              "      \n",
              "  <style>\n",
              "    .colab-df-container {\n",
              "      display:flex;\n",
              "      flex-wrap:wrap;\n",
              "      gap: 12px;\n",
              "    }\n",
              "\n",
              "    .colab-df-convert {\n",
              "      background-color: #E8F0FE;\n",
              "      border: none;\n",
              "      border-radius: 50%;\n",
              "      cursor: pointer;\n",
              "      display: none;\n",
              "      fill: #1967D2;\n",
              "      height: 32px;\n",
              "      padding: 0 0 0 0;\n",
              "      width: 32px;\n",
              "    }\n",
              "\n",
              "    .colab-df-convert:hover {\n",
              "      background-color: #E2EBFA;\n",
              "      box-shadow: 0px 1px 2px rgba(60, 64, 67, 0.3), 0px 1px 3px 1px rgba(60, 64, 67, 0.15);\n",
              "      fill: #174EA6;\n",
              "    }\n",
              "\n",
              "    [theme=dark] .colab-df-convert {\n",
              "      background-color: #3B4455;\n",
              "      fill: #D2E3FC;\n",
              "    }\n",
              "\n",
              "    [theme=dark] .colab-df-convert:hover {\n",
              "      background-color: #434B5C;\n",
              "      box-shadow: 0px 1px 3px 1px rgba(0, 0, 0, 0.15);\n",
              "      filter: drop-shadow(0px 1px 2px rgba(0, 0, 0, 0.3));\n",
              "      fill: #FFFFFF;\n",
              "    }\n",
              "  </style>\n",
              "\n",
              "      <script>\n",
              "        const buttonEl =\n",
              "          document.querySelector('#df-1ab4c3f4-3dab-4949-81d5-a974eb5d086c button.colab-df-convert');\n",
              "        buttonEl.style.display =\n",
              "          google.colab.kernel.accessAllowed ? 'block' : 'none';\n",
              "\n",
              "        async function convertToInteractive(key) {\n",
              "          const element = document.querySelector('#df-1ab4c3f4-3dab-4949-81d5-a974eb5d086c');\n",
              "          const dataTable =\n",
              "            await google.colab.kernel.invokeFunction('convertToInteractive',\n",
              "                                                     [key], {});\n",
              "          if (!dataTable) return;\n",
              "\n",
              "          const docLinkHtml = 'Like what you see? Visit the ' +\n",
              "            '<a target=\"_blank\" href=https://colab.research.google.com/notebooks/data_table.ipynb>data table notebook</a>'\n",
              "            + ' to learn more about interactive tables.';\n",
              "          element.innerHTML = '';\n",
              "          dataTable['output_type'] = 'display_data';\n",
              "          await google.colab.output.renderOutput(dataTable, element);\n",
              "          const docLink = document.createElement('div');\n",
              "          docLink.innerHTML = docLinkHtml;\n",
              "          element.appendChild(docLink);\n",
              "        }\n",
              "      </script>\n",
              "    </div>\n",
              "  </div>\n",
              "  "
            ]
          },
          "metadata": {},
          "execution_count": 1429
        }
      ]
    },
    {
      "cell_type": "code",
      "source": [
        "x = boat_df.number_of_views_last_7_days #we want to predict the condition of the boat according to how many views they had in last 7 days\n",
        "y = boat_df.condition"
      ],
      "metadata": {
        "id": "_g8G6JVnq3_J"
      },
      "execution_count": 1430,
      "outputs": []
    },
    {
      "cell_type": "code",
      "source": [
        "#Classification model type 1\n",
        "x_train, x_test, y_train, y_test = train_test_split(x,y, test_size = 0.2, random_state= 22)\n",
        "model = RandomForestClassifier(random_state = 42)\n",
        "model.fit(x_train.to_numpy().reshape(-1,1), y_train)\n",
        "y_pred = model.predict(x_test.to_numpy().reshape(-1,1))\n",
        "print('accuracy = ', accuracy_score(y_test, y_pred))"
      ],
      "metadata": {
        "colab": {
          "base_uri": "https://localhost:8080/"
        },
        "id": "aF7R8yvgyu6z",
        "outputId": "ca7a62d5-db2c-4f4d-c27f-b68fc1bdc140"
      },
      "execution_count": 1431,
      "outputs": [
        {
          "output_type": "stream",
          "name": "stdout",
          "text": [
            "accuracy =  0.7520661157024794\n"
          ]
        }
      ]
    },
    {
      "cell_type": "code",
      "source": [
        "#Classification model type 2, with higher accuracy\n",
        "x = boat_df[['number_of_views_last_7_days', 'price', 'length', 'width', 'depth']]\n",
        "model = RandomForestClassifier(random_state=42)\n",
        "x_train, x_test, y_train, y_test = train_test_split(x,y, test_size = 0.2, random_state= 22)\n",
        "model.fit(x_train, y_train)\n",
        "y_pred = model.predict(x_test)\n",
        "acc = accuracy_score(y_pred, y_test)\n",
        "print('accuracy = ', acc) #we can see that this features works better: the accuracy increased"
      ],
      "metadata": {
        "colab": {
          "base_uri": "https://localhost:8080/"
        },
        "id": "bLClb9tH11mg",
        "outputId": "7f84b169-55ad-48bf-a5c9-29761137637d"
      },
      "execution_count": 1432,
      "outputs": [
        {
          "output_type": "stream",
          "name": "stdout",
          "text": [
            "accuracy =  0.8016528925619835\n"
          ]
        }
      ]
    },
    {
      "cell_type": "code",
      "source": [
        "#using KFold we can be more accurate:\n",
        "kf = KFold(n_splits=20, shuffle=True, random_state=42)\n",
        "accuracies = []\n",
        "for train_index, test_index in kf.split(x): \n",
        "  x_train, x_test = x.iloc[train_index], x.iloc[test_index]\n",
        "  y_train, y_test = y.iloc[train_index], y.iloc[test_index]\n",
        "  model.fit(x_train, y_train)\n",
        "  y_pred = model.predict(x_test)\n",
        "  acc = accuracy_score(y_test,y_pred)\n",
        "  accuracies.append(acc)\n",
        "\n",
        "real_acc = sum(accuracies)/len(accuracies)\n",
        "print('realistic accuracy = ', real_acc)"
      ],
      "metadata": {
        "colab": {
          "base_uri": "https://localhost:8080/"
        },
        "id": "gtM1d7q3UMri",
        "outputId": "0abdad8d-bdef-412a-9d7d-f364d9796841"
      },
      "execution_count": 1433,
      "outputs": [
        {
          "output_type": "stream",
          "name": "stdout",
          "text": [
            "realistic accuracy =  0.7950589324166072\n"
          ]
        }
      ]
    }
  ]
}